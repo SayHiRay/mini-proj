{
 "cells": [
  {
   "cell_type": "markdown",
   "metadata": {},
   "source": [
    "                                CS5234 Combinatorial And Graph Algorithms\n",
    "                                \n",
    "\n",
    "Progress Report.\n",
    "\n",
    "We have found two dataset, one the text data and the other is image data. We have already perfomred random projection on the text data, and tried Kmean clustering.\n",
    "                                \n",
    "\n",
    "** Some helpful links for learning about the basics of random projection and J-L lemma **\n",
    "\n",
    "\n",
    "#### J-L Lemma\n",
    "* This blog post http://www.johnmyleswhite.com/notebook/2014/03/24/a-note-on-the-johnson-lindenstrauss-lemma/ is a good start for learning about J-L lemma and random projection. DO READ IT.\n",
    "\n",
    "#### Random Projection\n",
    "* This paper http://citeseerx.ist.psu.edu/viewdoc/download?doi=10.1.1.76.8124&rep=rep1&type=pdf gives a thorough introduction of random projection and its experimental performance.\n",
    "\n",
    "#### Working with RP in sklearn\n",
    "* Random projection: http://scikit-learn.org/stable/modules/random_projection.html\n",
    "* J-L lemma: http://scikit-learn.org/stable/auto_examples/plot_johnson_lindenstrauss_bound.html\n"
   ]
  },
  {
   "cell_type": "code",
   "execution_count": 1,
   "metadata": {},
   "outputs": [
    {
     "name": "stderr",
     "output_type": "stream",
     "text": [
      "/Users/ruizhi/anaconda/lib/python3.6/site-packages/sklearn/cross_validation.py:44: DeprecationWarning: This module was deprecated in version 0.18 in favor of the model_selection module into which all the refactored classes and functions are moved. Also note that the interface of the new CV iterators are different from that of this module. This module will be removed in 0.20.\n",
      "  \"This module will be removed in 0.20.\", DeprecationWarning)\n"
     ]
    }
   ],
   "source": [
    "import numpy as np\n",
    "from sklearn import random_projection\n",
    "from sklearn import neighbors, datasets, metrics, cross_validation\n",
    "from sklearn.decomposition import PCA\n",
    "from sklearn.random_projection import johnson_lindenstrauss_min_dim\n",
    "from sklearn.metrics.pairwise import euclidean_distances\n",
    "from sklearn.cluster import KMeans\n",
    "import timeit"
   ]
  },
  {
   "cell_type": "markdown",
   "metadata": {},
   "source": [
    "# Using sklearn for Random Projection\n",
    "The following few blocks demonstrate how we can perform random projection using sklearn. "
   ]
  },
  {
   "cell_type": "code",
   "execution_count": 12,
   "metadata": {},
   "outputs": [
    {
     "data": {
      "text/plain": [
       "1594"
      ]
     },
     "execution_count": 12,
     "metadata": {},
     "output_type": "execute_result"
    }
   ],
   "source": [
    "# the min dimension that guarantees the specific epsilon, determined by J-L Lemma\n",
    "k_min = johnson_lindenstrauss_min_dim(n_samples=1e3, eps=0.2)\n",
    "k_min"
   ]
  },
  {
   "cell_type": "code",
   "execution_count": 13,
   "metadata": {
    "collapsed": true
   },
   "outputs": [],
   "source": [
    "# Examplar data before random projection\n",
    "X = np.random.rand(1000, 10000) # the first dim is number of samples, second is original number of features"
   ]
  },
  {
   "cell_type": "code",
   "execution_count": 14,
   "metadata": {
    "collapsed": true
   },
   "outputs": [],
   "source": [
    "RP = random_projection.GaussianRandomProjection(n_components=k_min, eps=0.2)"
   ]
  },
  {
   "cell_type": "code",
   "execution_count": 15,
   "metadata": {},
   "outputs": [
    {
     "data": {
      "text/plain": [
       "(1000, 1594)"
      ]
     },
     "execution_count": 15,
     "metadata": {},
     "output_type": "execute_result"
    }
   ],
   "source": [
    "# Result after random projection\n",
    "X_new = RP.fit_transform(X)\n",
    "X_new.shape"
   ]
  },
  {
   "cell_type": "code",
   "execution_count": 16,
   "metadata": {
    "collapsed": true
   },
   "outputs": [],
   "source": [
    "SRP = random_projection.SparseRandomProjection(n_components=k_min, eps=0.2)"
   ]
  },
  {
   "cell_type": "code",
   "execution_count": 17,
   "metadata": {},
   "outputs": [
    {
     "data": {
      "text/plain": [
       "(1000, 1594)"
      ]
     },
     "execution_count": 17,
     "metadata": {},
     "output_type": "execute_result"
    }
   ],
   "source": [
    "# Result after sparse random projection\n",
    "X_new = SRP.fit_transform(X)\n",
    "X_new.shape"
   ]
  },
  {
   "cell_type": "markdown",
   "metadata": {},
   "source": [
    "# Using RP on Text Data"
   ]
  },
  {
   "cell_type": "code",
   "execution_count": 2,
   "metadata": {
    "collapsed": true
   },
   "outputs": [],
   "source": [
    "from sklearn.datasets import fetch_20newsgroups_vectorized, fetch_20newsgroups\n",
    "import numpy as np\n",
    "import matplotlib.pyplot as plt\n",
    "from sklearn.metrics.pairwise import euclidean_distances\n",
    "from time import time\n",
    "from sklearn.random_projection import SparseRandomProjection"
   ]
  },
  {
   "cell_type": "code",
   "execution_count": 3,
   "metadata": {
    "collapsed": true
   },
   "outputs": [],
   "source": [
    "data = fetch_20newsgroups_vectorized().data[:3000]"
   ]
  },
  {
   "cell_type": "code",
   "execution_count": 4,
   "metadata": {},
   "outputs": [
    {
     "name": "stdout",
     "output_type": "stream",
     "text": [
      "Embedding 3000 samples with dim 130107 using various random projections\n"
     ]
    }
   ],
   "source": [
    "n_samples, n_features = data.shape\n",
    "print(\"Embedding %d samples with dim %d using various random projections\"\n",
    "      % (n_samples, n_features))\n",
    "\n",
    "n_components_range = np.array([2000]) # can try with 300, 1000, 10000\n",
    "dists = euclidean_distances(data, squared=True).ravel()\n",
    "\n",
    "# select only non-identical samples pairs\n",
    "nonzero = dists != 0\n",
    "dists = dists[nonzero]"
   ]
  },
  {
   "cell_type": "code",
   "execution_count": 21,
   "metadata": {
    "scrolled": true
   },
   "outputs": [
    {
     "name": "stdout",
     "output_type": "stream",
     "text": [
      "Require 2717 dimensions after projection according to J-L lemma\n"
     ]
    }
   ],
   "source": [
    "k_min = johnson_lindenstrauss_min_dim(n_samples=n_features, eps=0.2)\n",
    "print(\"Require %d dimensions after projection according to J-L lemma\"\n",
    "      % (k_min))"
   ]
  },
  {
   "cell_type": "markdown",
   "metadata": {},
   "source": [
    "### RP"
   ]
  },
  {
   "cell_type": "code",
   "execution_count": 5,
   "metadata": {},
   "outputs": [
    {
     "name": "stdout",
     "output_type": "stream",
     "text": [
      "Projected 3000 samples from 130107 to 2000 in 18.763s\n",
      "Mean distances rate: 1.01 (0.03)\n"
     ]
    },
    {
     "data": {
      "image/png": "[encoded data removed]",
      "text/plain": [
       "<matplotlib.figure.Figure at 0x106ea87b8>"
      ]
     },
     "metadata": {},
     "output_type": "display_data"
    },
    {
     "data": {
      "image/png": "[encoded data removed]",
      "text/plain": [
       "<matplotlib.figure.Figure at 0x110335c88>"
      ]
     },
     "metadata": {},
     "output_type": "display_data"
    }
   ],
   "source": [
    "for n_components in n_components_range:\n",
    "    t0 = time()\n",
    "    rp = random_projection.GaussianRandomProjection(n_components=n_components)\n",
    "    projected_data = rp.fit_transform(data.toarray())\n",
    "    print(\"Projected %d samples from %d to %d in %0.3fs\"\n",
    "          % (n_samples, n_features, n_components, time() - t0))\n",
    "\n",
    "    projected_dists = euclidean_distances(\n",
    "        projected_data, squared=True).ravel()[nonzero]\n",
    "\n",
    "    plt.figure()\n",
    "    plt.hexbin(dists, projected_dists, gridsize=100, cmap=plt.cm.PuBu)\n",
    "    plt.xlabel(\"Pairwise squared distances in original space\")\n",
    "    plt.ylabel(\"Pairwise squared distances in projected space\")\n",
    "    plt.title(\"Pairwise distances distribution for reduced dimension=%d\" %\n",
    "              n_components)\n",
    "    cb = plt.colorbar()\n",
    "    cb.set_label('Sample pairs counts')\n",
    "\n",
    "    rates = projected_dists / dists\n",
    "    print(\"Mean distances rate: %0.2f (%0.2f)\"\n",
    "          % (np.mean(rates), np.std(rates)))\n",
    "\n",
    "    plt.figure()\n",
    "    plt.hist(rates, bins=100, normed=True, range=(0., 2.), edgecolor='k')\n",
    "    plt.xlabel(\"Squared distances rate: projected / original\")\n",
    "    plt.ylabel(\"Distribution of samples pairs\")\n",
    "    plt.title(\"Histogram of pairwise distance rates for reduced dimension=%d\" %\n",
    "              n_components)\n",
    "\n",
    "plt.show()"
   ]
  },
  {
   "cell_type": "markdown",
   "metadata": {},
   "source": [
    "### SRP"
   ]
  },
  {
   "cell_type": "code",
   "execution_count": 6,
   "metadata": {},
   "outputs": [
    {
     "name": "stdout",
     "output_type": "stream",
     "text": [
      "Projected 3000 samples from 130107 to 2000 in 11.522s\n",
      "Mean distances rate: 1.03 (0.08)\n"
     ]
    },
    {
     "data": {
      "image/png": "[encoded data removed]",
      "text/plain": [
       "<matplotlib.figure.Figure at 0x1156baef0>"
      ]
     },
     "metadata": {},
     "output_type": "display_data"
    },
    {
     "data": {
      "image/png": "[encoded data removed]",
      "text/plain": [
       "<matplotlib.figure.Figure at 0x1116f01d0>"
      ]
     },
     "metadata": {},
     "output_type": "display_data"
    }
   ],
   "source": [
    "for n_components in n_components_range:\n",
    "    t0 = time()\n",
    "    rp = SparseRandomProjection(n_components=n_components)\n",
    "    projected_data = rp.fit_transform(data.toarray())\n",
    "    print(\"Projected %d samples from %d to %d in %0.3fs\"\n",
    "          % (n_samples, n_features, n_components, time() - t0))\n",
    "\n",
    "    projected_dists = euclidean_distances(\n",
    "        projected_data, squared=True).ravel()[nonzero]\n",
    "\n",
    "    plt.figure()\n",
    "    plt.hexbin(dists, projected_dists, gridsize=100, cmap=plt.cm.PuBu)\n",
    "    plt.xlabel(\"Pairwise squared distances in original space\")\n",
    "    plt.ylabel(\"Pairwise squared distances in projected space\")\n",
    "    plt.title(\"Pairwise distances distribution for reduced dimension=%d\" %\n",
    "              n_components)\n",
    "    cb = plt.colorbar()\n",
    "    cb.set_label('Sample pairs counts')\n",
    "\n",
    "    rates = projected_dists / dists\n",
    "    print(\"Mean distances rate: %0.2f (%0.2f)\"\n",
    "          % (np.mean(rates), np.std(rates)))\n",
    "\n",
    "    plt.figure()\n",
    "    plt.hist(rates, bins=100, normed=True, range=(0., 2.), edgecolor='k')\n",
    "    plt.xlabel(\"Squared distances rate: projected / original\")\n",
    "    plt.ylabel(\"Distribution of samples pairs\")\n",
    "    plt.title(\"Histogram of pairwise distance rates for reduced dimension=%d\" %\n",
    "              n_components)\n",
    "\n",
    "plt.show()"
   ]
  },
  {
   "cell_type": "markdown",
   "metadata": {},
   "source": [
    "### PCA"
   ]
  },
  {
   "cell_type": "code",
   "execution_count": 64,
   "metadata": {},
   "outputs": [
    {
     "name": "stdout",
     "output_type": "stream",
     "text": [
      "Projected 3000 samples from 130107 to 2000 in 261.472s\n",
      "Mean distances rate: 0.95 (0.03)\n"
     ]
    },
    {
     "data": {
      "image/png": "[encoded data removed]",
      "text/plain": [
       "<matplotlib.figure.Figure at 0x116f747b8>"
      ]
     },
     "metadata": {},
     "output_type": "display_data"
    },
    {
     "data": {
      "image/png": "[encoded data removed]",
      "text/plain": [
       "<matplotlib.figure.Figure at 0x116f72470>"
      ]
     },
     "metadata": {},
     "output_type": "display_data"
    }
   ],
   "source": [
    "for n_components in n_components_range:\n",
    "    t0 = time()\n",
    "    rp = PCA(n_components=n_components)\n",
    "    projected_data = rp.fit_transform(data.toarray())\n",
    "    print(\"Projected %d samples from %d to %d in %0.3fs\"\n",
    "          % (n_samples, n_features, n_components, time() - t0))\n",
    "\n",
    "    projected_dists = euclidean_distances(\n",
    "        projected_data, squared=True).ravel()[nonzero]\n",
    "\n",
    "    plt.figure()\n",
    "    plt.hexbin(dists, projected_dists, gridsize=100, cmap=plt.cm.PuBu)\n",
    "    plt.xlabel(\"Pairwise squared distances in original space\")\n",
    "    plt.ylabel(\"Pairwise squared distances in projected space\")\n",
    "    plt.title(\"Pairwise distances distribution for reduced dimension=%d\" %\n",
    "              n_components)\n",
    "    cb = plt.colorbar()\n",
    "    cb.set_label('Sample pairs counts')\n",
    "\n",
    "    rates = projected_dists / dists\n",
    "    print(\"Mean distances rate: %0.2f (%0.2f)\"\n",
    "          % (np.mean(rates), np.std(rates)))\n",
    "\n",
    "    plt.figure()\n",
    "    plt.hist(rates, bins=100, normed=True, range=(0., 2.), edgecolor='k')\n",
    "    plt.xlabel(\"Squared distances rate: projected / original\")\n",
    "    plt.ylabel(\"Distribution of samples pairs\")\n",
    "    plt.title(\"Histogram of pairwise distance rates for reduced dimension=%d\" %\n",
    "              n_components)\n",
    "\n",
    "plt.show()"
   ]
  },
  {
   "cell_type": "markdown",
   "metadata": {},
   "source": [
    "# Using RP on Image Data"
   ]
  },
  {
   "cell_type": "code",
   "execution_count": 10,
   "metadata": {
    "collapsed": true
   },
   "outputs": [],
   "source": [
    "import numpy as np\n",
    "import matplotlib.pyplot as plt\n",
    "\n",
    "from time import time\n",
    "\n",
    "from sklearn.datasets import fetch_olivetti_faces\n",
    "from sklearn.utils.validation import check_random_state\n",
    "\n",
    "from sklearn.metrics.pairwise import euclidean_distances\n",
    "from sklearn.random_projection import SparseRandomProjection"
   ]
  },
  {
   "cell_type": "code",
   "execution_count": 11,
   "metadata": {
    "collapsed": true
   },
   "outputs": [],
   "source": [
    "data = fetch_olivetti_faces()\n",
    "data = data.images.reshape((len(data.images), -1))[:]"
   ]
  },
  {
   "cell_type": "code",
   "execution_count": 12,
   "metadata": {},
   "outputs": [
    {
     "name": "stdout",
     "output_type": "stream",
     "text": [
      "Embedding 400 samples with dim 4096 using various random projections\n"
     ]
    }
   ],
   "source": [
    "n_samples, n_features = data.shape\n",
    "print(\"Embedding %d samples with dim %d using various random projections\"\n",
    "      % (n_samples, n_features))\n",
    "\n",
    "n_components_range = np.array([500]) # can try with 300, 1000, 10000\n",
    "dists = euclidean_distances(data, squared=True).ravel()\n",
    "\n",
    "# select only non-identical samples pairs\n",
    "nonzero = dists != 0\n",
    "dists = dists[nonzero]"
   ]
  },
  {
   "cell_type": "code",
   "execution_count": 26,
   "metadata": {},
   "outputs": [
    {
     "name": "stdout",
     "output_type": "stream",
     "text": [
      "Require 1919 dimensions after projection according to J-L lemma\n"
     ]
    }
   ],
   "source": [
    "k_min = johnson_lindenstrauss_min_dim(n_samples=n_features, eps=0.2)\n",
    "print(\"Require %d dimensions after projection according to J-L lemma\"\n",
    "      % (k_min))"
   ]
  },
  {
   "cell_type": "markdown",
   "metadata": {},
   "source": [
    "### RP"
   ]
  },
  {
   "cell_type": "code",
   "execution_count": 13,
   "metadata": {},
   "outputs": [
    {
     "name": "stdout",
     "output_type": "stream",
     "text": [
      "Projected 400 samples from 4096 to 500 in 0.101s\n",
      "Mean distances rate: 1.00 (0.06)\n"
     ]
    },
    {
     "data": {
      "image/png": "[encoded data removed]",
      "text/plain": [
       "<matplotlib.figure.Figure at 0x105ba55c0>"
      ]
     },
     "metadata": {},
     "output_type": "display_data"
    },
    {
     "data": {
      "image/png": "[encoded data removed]",
      "text/plain": [
       "<matplotlib.figure.Figure at 0x1103b4d68>"
      ]
     },
     "metadata": {},
     "output_type": "display_data"
    }
   ],
   "source": [
    "for n_components in n_components_range:\n",
    "    t0 = time()\n",
    "    rp = random_projection.GaussianRandomProjection(n_components=n_components)\n",
    "    projected_data = rp.fit_transform(data)\n",
    "    print(\"Projected %d samples from %d to %d in %0.3fs\"\n",
    "          % (n_samples, n_features, n_components, time() - t0))\n",
    "\n",
    "    projected_dists = euclidean_distances(\n",
    "        projected_data, squared=True).ravel()[nonzero]\n",
    "\n",
    "    plt.figure()\n",
    "    plt.hexbin(dists, projected_dists, gridsize=100, cmap=plt.cm.PuBu)\n",
    "    plt.xlabel(\"Pairwise squared distances in original space\")\n",
    "    plt.ylabel(\"Pairwise squared distances in projected space\")\n",
    "    plt.title(\"Pairwise distances distribution for reduced dimension=%d\" %\n",
    "              n_components)\n",
    "    cb = plt.colorbar()\n",
    "    cb.set_label('Sample pairs counts')\n",
    "\n",
    "    rates = projected_dists / dists\n",
    "    print(\"Mean distances rate: %0.2f (%0.2f)\"\n",
    "          % (np.mean(rates), np.std(rates)))\n",
    "\n",
    "    plt.figure()\n",
    "    plt.hist(rates, bins=100, normed=True, range=(0., 2.), edgecolor='k')\n",
    "    plt.xlabel(\"Squared distances rate: projected / original\")\n",
    "    plt.ylabel(\"Distribution of samples pairs\")\n",
    "    plt.title(\"Histogram of pairwise distance rates for reduced dimension=%d\" %\n",
    "              n_components)\n",
    "\n",
    "plt.show()"
   ]
  },
  {
   "cell_type": "markdown",
   "metadata": {},
   "source": [
    "### SRP"
   ]
  },
  {
   "cell_type": "code",
   "execution_count": 14,
   "metadata": {
    "scrolled": true
   },
   "outputs": [
    {
     "name": "stdout",
     "output_type": "stream",
     "text": [
      "Projected 400 samples from 4096 to 500 in 0.067s\n",
      "Mean distances rate: 1.00 (0.06)\n"
     ]
    },
    {
     "data": {
      "image/png": "[encoded data removed]",
      "text/plain": [
       "<matplotlib.figure.Figure at 0x11029aba8>"
      ]
     },
     "metadata": {},
     "output_type": "display_data"
    },
    {
     "data": {
      "image/png": "[encoded data removed]",
      "text/plain": [
       "<matplotlib.figure.Figure at 0x1109b1e10>"
      ]
     },
     "metadata": {},
     "output_type": "display_data"
    }
   ],
   "source": [
    "for n_components in n_components_range:\n",
    "    t0 = time()\n",
    "    rp = SparseRandomProjection(n_components=n_components)\n",
    "    projected_data = rp.fit_transform(data)\n",
    "    print(\"Projected %d samples from %d to %d in %0.3fs\"\n",
    "          % (n_samples, n_features, n_components, time() - t0))\n",
    "\n",
    "    projected_dists = euclidean_distances(\n",
    "        projected_data, squared=True).ravel()[nonzero]\n",
    "\n",
    "    plt.figure()\n",
    "    plt.hexbin(dists, projected_dists, gridsize=100, cmap=plt.cm.PuBu)\n",
    "    plt.xlabel(\"Pairwise squared distances in original space\")\n",
    "    plt.ylabel(\"Pairwise squared distances in projected space\")\n",
    "    plt.title(\"Pairwise distances distribution for n_components=%d\" %\n",
    "              n_components)\n",
    "    cb = plt.colorbar()\n",
    "    cb.set_label('Sample pairs counts')\n",
    "\n",
    "    rates = projected_dists / dists\n",
    "    print(\"Mean distances rate: %0.2f (%0.2f)\"\n",
    "          % (np.mean(rates), np.std(rates)))\n",
    "\n",
    "    plt.figure()\n",
    "    plt.hist(rates, bins=100, normed=True, range=(0., 2.), edgecolor='k')\n",
    "    plt.xlabel(\"Squared distances rate: projected / original\")\n",
    "    plt.ylabel(\"Distribution of samples pairs\")\n",
    "    plt.title(\"Histogram of pairwise distance rates for n_components=%d\" %\n",
    "              n_components)\n",
    "\n",
    "plt.show()"
   ]
  },
  {
   "cell_type": "markdown",
   "metadata": {},
   "source": [
    "### PCA"
   ]
  },
  {
   "cell_type": "code",
   "execution_count": 15,
   "metadata": {},
   "outputs": [
    {
     "name": "stdout",
     "output_type": "stream",
     "text": [
      "Projected 400 samples from 4096 to 500 in 0.190s\n",
      "Mean distances rate: 1.00 (0.00)\n"
     ]
    },
    {
     "data": {
      "image/png": "[encoded data removed]",
      "text/plain": [
       "<matplotlib.figure.Figure at 0x11098d080>"
      ]
     },
     "metadata": {},
     "output_type": "display_data"
    },
    {
     "data": {
      "image/png": "[encoded data removed]",
      "text/plain": [
       "<matplotlib.figure.Figure at 0x1118b1b00>"
      ]
     },
     "metadata": {},
     "output_type": "display_data"
    }
   ],
   "source": [
    "for n_components in n_components_range:\n",
    "    t0 = time()\n",
    "    rp = PCA(n_components=n_components)\n",
    "    projected_data = rp.fit_transform(data)\n",
    "    print(\"Projected %d samples from %d to %d in %0.3fs\"\n",
    "          % (n_samples, n_features, n_components, time() - t0))\n",
    "\n",
    "    projected_dists = euclidean_distances(\n",
    "        projected_data, squared=True).ravel()[nonzero]\n",
    "\n",
    "    plt.figure()\n",
    "    plt.hexbin(dists, projected_dists, gridsize=100, cmap=plt.cm.PuBu)\n",
    "    plt.xlabel(\"Pairwise squared distances in original space\")\n",
    "    plt.ylabel(\"Pairwise squared distances in projected space\")\n",
    "    plt.title(\"Pairwise distances distribution for reduced dimension=%d\" %\n",
    "              n_components)\n",
    "    cb = plt.colorbar()\n",
    "    cb.set_label('Sample pairs counts')\n",
    "\n",
    "    rates = projected_dists / dists\n",
    "    print(\"Mean distances rate: %0.2f (%0.2f)\"\n",
    "          % (np.mean(rates), np.std(rates)))\n",
    "\n",
    "    plt.figure()\n",
    "    plt.hist(rates, bins=100, normed=True, range=(0., 2.), edgecolor='k')\n",
    "    plt.xlabel(\"Squared distances rate: projected / original\")\n",
    "    plt.ylabel(\"Distribution of samples pairs\")\n",
    "    plt.title(\"Histogram of pairwise distance rates for reduced dimension=%d\" %\n",
    "              n_components)\n",
    "\n",
    "plt.show()"
   ]
  },
  {
   "cell_type": "markdown",
   "metadata": {},
   "source": [
    "# kNN on Text Data"
   ]
  },
  {
   "cell_type": "markdown",
   "metadata": {},
   "source": [
    "## Data Preprocessing"
   ]
  },
  {
   "cell_type": "code",
   "execution_count": 4,
   "metadata": {
    "collapsed": true
   },
   "outputs": [],
   "source": [
    "# TODO: perform kNN on our text dataset\n",
    "# compare **performance** and **time complexity** before\n",
    "# and after random projection.\n",
    "newsgroups_train = fetch_20newsgroups(subset='train')"
   ]
  },
  {
   "cell_type": "code",
   "execution_count": 5,
   "metadata": {
    "scrolled": true
   },
   "outputs": [
    {
     "data": {
      "text/plain": [
       "['alt.atheism',\n",
       " 'comp.graphics',\n",
       " 'comp.os.ms-windows.misc',\n",
       " 'comp.sys.ibm.pc.hardware',\n",
       " 'comp.sys.mac.hardware',\n",
       " 'comp.windows.x',\n",
       " 'misc.forsale',\n",
       " 'rec.autos',\n",
       " 'rec.motorcycles',\n",
       " 'rec.sport.baseball',\n",
       " 'rec.sport.hockey',\n",
       " 'sci.crypt',\n",
       " 'sci.electronics',\n",
       " 'sci.med',\n",
       " 'sci.space',\n",
       " 'soc.religion.christian',\n",
       " 'talk.politics.guns',\n",
       " 'talk.politics.mideast',\n",
       " 'talk.politics.misc',\n",
       " 'talk.religion.misc']"
      ]
     },
     "execution_count": 5,
     "metadata": {},
     "output_type": "execute_result"
    }
   ],
   "source": [
    "# All the categories in the dataset\n",
    "# we do not need to use all of them\n",
    "# for the sake of running time\n",
    "list(newsgroups_train.target_names)"
   ]
  },
  {
   "cell_type": "code",
   "execution_count": 6,
   "metadata": {},
   "outputs": [
    {
     "data": {
      "text/plain": [
       "array([7, 4, 4, ..., 3, 1, 8])"
      ]
     },
     "execution_count": 6,
     "metadata": {},
     "output_type": "execute_result"
    }
   ],
   "source": [
    "newsgroups_train.target"
   ]
  },
  {
   "cell_type": "code",
   "execution_count": 8,
   "metadata": {},
   "outputs": [
    {
     "name": "stdout",
     "output_type": "stream",
     "text": [
      "2789\n"
     ]
    },
    {
     "data": {
      "text/plain": [
       "(2789, 43807)"
      ]
     },
     "execution_count": 8,
     "metadata": {},
     "output_type": "execute_result"
    }
   ],
   "source": [
    "from sklearn.feature_extraction.text import TfidfVectorizer\n",
    "categories = ['alt.atheism', 'talk.politics.guns',\n",
    "              'comp.graphics', 'sci.med', 'misc.forsale']\n",
    "newsgroups_train_and_test = fetch_20newsgroups(subset='train',\n",
    "                                categories=categories)\n",
    "# newsgroups_train_and_test = fetch_20newsgroups(subset='train')\n",
    "print(len(newsgroups_train_and_test.filenames))\n",
    "vectorizer = TfidfVectorizer()\n",
    "vectors = vectorizer.fit_transform(newsgroups_train_and_test.data) \n",
    "\n",
    "# Notice that the vectors returned above is in scipy sparse matrix format.\n",
    "# we would like to convert it to normal numpy format\n",
    "vectors = vectors.toarray()\n",
    "vectors.shape"
   ]
  },
  {
   "cell_type": "markdown",
   "metadata": {},
   "source": [
    "## Performance Evaluation Function"
   ]
  },
  {
   "cell_type": "code",
   "execution_count": 18,
   "metadata": {
    "collapsed": true
   },
   "outputs": [],
   "source": [
    "def test_classifier(X, y, clf, test_size=0.4, y_names=None, confusion=False):\n",
    "    # train-test split\n",
    "    X_train, X_test, y_train, y_test = cross_validation.train_test_split(X, y, test_size=test_size)\n",
    "\n",
    "    clf.fit(X_train, y_train)\n",
    "    y_predicted = clf.predict(X_test)\n",
    "\n",
    "    if not confusion:\n",
    "        print('Classification report:')\n",
    "        print(metrics.classification_report(y_test, y_predicted, target_names=y_names))\n",
    "    else:\n",
    "        print('Confusion Matrix:')\n",
    "        print(metrics.confusion_matrix(y_test, y_predicted))"
   ]
  },
  {
   "cell_type": "markdown",
   "metadata": {},
   "source": [
    "## Set up kNN Classifier"
   ]
  },
  {
   "cell_type": "code",
   "execution_count": 81,
   "metadata": {
    "collapsed": true
   },
   "outputs": [],
   "source": [
    "n_neighbors = 15\n",
    "weights = 'uniform'\n",
    "# weights = 'distance'\n",
    "clf = neighbors.KNeighborsClassifier(n_neighbors, weights=weights)"
   ]
  },
  {
   "cell_type": "markdown",
   "metadata": {},
   "source": [
    "## kNN on Original Data"
   ]
  },
  {
   "cell_type": "code",
   "execution_count": 34,
   "metadata": {
    "scrolled": true
   },
   "outputs": [
    {
     "name": "stdout",
     "output_type": "stream",
     "text": [
      "Classification report:\n",
      "                       precision    recall  f1-score   support\n",
      "\n",
      "          alt.atheism       0.62      0.91      0.74       196\n",
      "        comp.graphics       0.97      0.78      0.87       222\n",
      "              sci.med       0.97      0.74      0.84       237\n",
      "talk.politics.mideast       0.76      0.96      0.85       225\n",
      "   talk.religion.misc       0.81      0.52      0.63       160\n",
      "\n",
      "          avg / total       0.83      0.80      0.80      1040\n",
      "\n"
     ]
    }
   ],
   "source": [
    "start_time = timeit.default_timer()\n",
    "test_classifier(vectors, newsgroups_train_and_test.target, clf, y_names=newsgroups_train_and_test.target_names, confusion=False)\n",
    "elapsed_original = timeit.default_timer() - start_time"
   ]
  },
  {
   "cell_type": "code",
   "execution_count": 35,
   "metadata": {},
   "outputs": [
    {
     "name": "stdout",
     "output_type": "stream",
     "text": [
      "109.71652391348636\n"
     ]
    }
   ],
   "source": [
    "print(elapsed_original)"
   ]
  },
  {
   "cell_type": "markdown",
   "metadata": {},
   "source": [
    "## kNN on Data after RP"
   ]
  },
  {
   "cell_type": "code",
   "execution_count": 36,
   "metadata": {
    "collapsed": true
   },
   "outputs": [],
   "source": [
    "start_time = timeit.default_timer()\n",
    "# Apply RP\n",
    "n_components = 2000\n",
    "RP = random_projection.GaussianRandomProjection(n_components=n_components)\n",
    "# Result after random projection\n",
    "vectors_RP = RP.fit_transform(vectors)\n",
    "vectors_RP.shape\n",
    "elapsed_transform_RP = timeit.default_timer() - start_time"
   ]
  },
  {
   "cell_type": "code",
   "execution_count": 37,
   "metadata": {},
   "outputs": [
    {
     "name": "stdout",
     "output_type": "stream",
     "text": [
      "5.68743002810595\n"
     ]
    }
   ],
   "source": [
    "print(elapsed_transform_RP)"
   ]
  },
  {
   "cell_type": "code",
   "execution_count": 38,
   "metadata": {},
   "outputs": [
    {
     "name": "stdout",
     "output_type": "stream",
     "text": [
      "Classification report:\n",
      "                       precision    recall  f1-score   support\n",
      "\n",
      "          alt.atheism       0.51      0.89      0.65       188\n",
      "        comp.graphics       0.95      0.70      0.80       214\n",
      "              sci.med       0.96      0.63      0.76       238\n",
      "talk.politics.mideast       0.76      0.95      0.85       240\n",
      "   talk.religion.misc       0.84      0.49      0.62       160\n",
      "\n",
      "          avg / total       0.81      0.75      0.75      1040\n",
      "\n"
     ]
    }
   ],
   "source": [
    "start_time = timeit.default_timer()\n",
    "test_classifier(vectors_RP, newsgroups_train_and_test.target, clf, y_names=newsgroups_train_and_test.target_names, confusion=False)\n",
    "elapsed_RP = timeit.default_timer() - start_time"
   ]
  },
  {
   "cell_type": "code",
   "execution_count": 39,
   "metadata": {},
   "outputs": [
    {
     "name": "stdout",
     "output_type": "stream",
     "text": [
      "5.51448083934423\n"
     ]
    }
   ],
   "source": [
    "print(elapsed_RP)"
   ]
  },
  {
   "cell_type": "markdown",
   "metadata": {},
   "source": [
    "## kNN on Data after SRP"
   ]
  },
  {
   "cell_type": "code",
   "execution_count": 40,
   "metadata": {
    "collapsed": true
   },
   "outputs": [],
   "source": [
    "start_time = timeit.default_timer()\n",
    "# Apply SRP\n",
    "n_components = 2000\n",
    "SRP = random_projection.SparseRandomProjection(n_components=n_components)\n",
    "# Result after random projection\n",
    "vectors_SRP = SRP.fit_transform(vectors)\n",
    "vectors_SRP.shape\n",
    "elapsed_transform_SRP = timeit.default_timer() - start_time"
   ]
  },
  {
   "cell_type": "code",
   "execution_count": 41,
   "metadata": {},
   "outputs": [
    {
     "name": "stdout",
     "output_type": "stream",
     "text": [
      "2.7783678002188594\n"
     ]
    }
   ],
   "source": [
    "print(elapsed_transform_SRP)"
   ]
  },
  {
   "cell_type": "code",
   "execution_count": 42,
   "metadata": {
    "scrolled": true
   },
   "outputs": [
    {
     "name": "stdout",
     "output_type": "stream",
     "text": [
      "Classification report:\n",
      "                       precision    recall  f1-score   support\n",
      "\n",
      "          alt.atheism       0.90      0.74      0.81       205\n",
      "        comp.graphics       0.93      0.70      0.80       222\n",
      "              sci.med       0.89      0.52      0.65       242\n",
      "talk.politics.mideast       0.49      0.98      0.66       242\n",
      "   talk.religion.misc       0.75      0.49      0.59       129\n",
      "\n",
      "          avg / total       0.79      0.70      0.71      1040\n",
      "\n"
     ]
    }
   ],
   "source": [
    "start_time = timeit.default_timer()\n",
    "test_classifier(vectors_SRP, newsgroups_train_and_test.target, clf, y_names=newsgroups_train_and_test.target_names, confusion=False)\n",
    "elapsed_SRP = timeit.default_timer() - start_time"
   ]
  },
  {
   "cell_type": "code",
   "execution_count": 43,
   "metadata": {
    "scrolled": true
   },
   "outputs": [
    {
     "name": "stdout",
     "output_type": "stream",
     "text": [
      "5.384764140256877\n"
     ]
    }
   ],
   "source": [
    "print(elapsed_SRP)"
   ]
  },
  {
   "cell_type": "markdown",
   "metadata": {},
   "source": [
    "## kNN on Data after PCA"
   ]
  },
  {
   "cell_type": "code",
   "execution_count": 44,
   "metadata": {
    "collapsed": true
   },
   "outputs": [],
   "source": [
    "start_time = timeit.default_timer()\n",
    "# Apply SRP\n",
    "n_components = 2000\n",
    "pca = PCA(n_components=n_components)\n",
    "# Result after random projection\n",
    "vectors_PCA = pca.fit(vectors).transform(vectors)\n",
    "vectors_PCA.shape\n",
    "elapsed_transform_PCA = timeit.default_timer() - start_time"
   ]
  },
  {
   "cell_type": "code",
   "execution_count": 45,
   "metadata": {},
   "outputs": [
    {
     "name": "stdout",
     "output_type": "stream",
     "text": [
      "73.0100002343664\n"
     ]
    }
   ],
   "source": [
    "print(elapsed_transform_PCA)"
   ]
  },
  {
   "cell_type": "code",
   "execution_count": 46,
   "metadata": {},
   "outputs": [
    {
     "name": "stdout",
     "output_type": "stream",
     "text": [
      "Classification report:\n",
      "                       precision    recall  f1-score   support\n",
      "\n",
      "          alt.atheism       0.51      0.94      0.66       193\n",
      "        comp.graphics       0.98      0.57      0.72       226\n",
      "              sci.med       0.97      0.57      0.72       244\n",
      "talk.politics.mideast       0.67      0.97      0.80       237\n",
      "   talk.religion.misc       0.95      0.45      0.61       140\n",
      "\n",
      "          avg / total       0.82      0.71      0.71      1040\n",
      "\n"
     ]
    }
   ],
   "source": [
    "start_time = timeit.default_timer()\n",
    "test_classifier(vectors_PCA, newsgroups_train_and_test.target, clf, y_names=newsgroups_train_and_test.target_names, confusion=False)\n",
    "elapsed_PCA = timeit.default_timer() - start_time"
   ]
  },
  {
   "cell_type": "code",
   "execution_count": 47,
   "metadata": {},
   "outputs": [
    {
     "name": "stdout",
     "output_type": "stream",
     "text": [
      "5.313202460727098\n"
     ]
    }
   ],
   "source": [
    "print(elapsed_PCA)"
   ]
  },
  {
   "cell_type": "markdown",
   "metadata": {},
   "source": [
    "# Clustering on Text Data"
   ]
  },
  {
   "cell_type": "code",
   "execution_count": 178,
   "metadata": {},
   "outputs": [
    {
     "data": {
      "text/plain": [
       "(3387, 10000)"
      ]
     },
     "execution_count": 178,
     "metadata": {},
     "output_type": "execute_result"
    }
   ],
   "source": [
    "from sklearn.feature_extraction.text import TfidfVectorizer\n",
    "categories = [\n",
    "    'alt.atheism',\n",
    "    'talk.religion.misc',\n",
    "    'comp.graphics',\n",
    "    'sci.space'\n",
    "]\n",
    "newsgroups_dataset = fetch_20newsgroups(subset='all', categories=categories,\n",
    "                                        shuffle=True, random_state=42)\n",
    "vectorizer = TfidfVectorizer(max_df=0.5, max_features=10000,\n",
    "                             min_df=2, stop_words='english',\n",
    "                             use_idf=True)\n",
    "\n",
    "vectors = vectorizer.fit_transform(newsgroups_dataset.data) \n",
    "\n",
    "# Notice that the vectors returned above is in scipy sparse matrix format.\n",
    "# we would like to convert it to normal numpy format\n",
    "vectors = vectors.toarray()\n",
    "vectors.shape"
   ]
  },
  {
   "cell_type": "code",
   "execution_count": 179,
   "metadata": {},
   "outputs": [
    {
     "data": {
      "text/plain": [
       "4"
      ]
     },
     "execution_count": 179,
     "metadata": {},
     "output_type": "execute_result"
    }
   ],
   "source": [
    "labels = newsgroups_dataset.target\n",
    "true_k = np.unique(labels).shape[0]\n",
    "true_k"
   ]
  },
  {
   "cell_type": "markdown",
   "metadata": {},
   "source": [
    "## K-Means on Original Data"
   ]
  },
  {
   "cell_type": "code",
   "execution_count": 180,
   "metadata": {
    "collapsed": true
   },
   "outputs": [],
   "source": [
    "km = KMeans(n_clusters=true_k, init='k-means++', max_iter=100, n_init=20)\n",
    "\n",
    "start_time = timeit.default_timer()\n",
    "km.fit(vectors)\n",
    "elapsed_original = timeit.default_timer() - start_time"
   ]
  },
  {
   "cell_type": "code",
   "execution_count": 181,
   "metadata": {},
   "outputs": [
    {
     "name": "stdout",
     "output_type": "stream",
     "text": [
      "77.56919475799077\n"
     ]
    }
   ],
   "source": [
    "print(elapsed_original)"
   ]
  },
  {
   "cell_type": "code",
   "execution_count": 182,
   "metadata": {},
   "outputs": [
    {
     "name": "stdout",
     "output_type": "stream",
     "text": [
      "Homogeneity: 0.467\n",
      "Completeness: 0.553\n",
      "V-measure: 0.506\n"
     ]
    }
   ],
   "source": [
    "print(\"Homogeneity: %0.3f\" % metrics.homogeneity_score(labels, km.labels_))\n",
    "print(\"Completeness: %0.3f\" % metrics.completeness_score(labels, km.labels_))\n",
    "print(\"V-measure: %0.3f\" % metrics.v_measure_score(labels, km.labels_))"
   ]
  },
  {
   "cell_type": "markdown",
   "metadata": {},
   "source": [
    "## K-Means on Data after RP"
   ]
  },
  {
   "cell_type": "code",
   "execution_count": 195,
   "metadata": {
    "collapsed": true
   },
   "outputs": [],
   "source": [
    "# Apply RP\n",
    "n_components = 2000\n",
    "RP = random_projection.GaussianRandomProjection(n_components=n_components)\n",
    "# Result after random projection\n",
    "vectors_RP = RP.fit_transform(vectors)"
   ]
  },
  {
   "cell_type": "code",
   "execution_count": 196,
   "metadata": {
    "collapsed": true
   },
   "outputs": [],
   "source": [
    "km = KMeans(n_clusters=true_k, init='k-means++', max_iter=100, n_init=20)\n",
    "\n",
    "start_time = timeit.default_timer()\n",
    "km.fit(vectors_RP)\n",
    "elapsed_RP = timeit.default_timer() - start_time"
   ]
  },
  {
   "cell_type": "code",
   "execution_count": 197,
   "metadata": {},
   "outputs": [
    {
     "name": "stdout",
     "output_type": "stream",
     "text": [
      "16.89180941801169\n"
     ]
    }
   ],
   "source": [
    "print(elapsed_RP)"
   ]
  },
  {
   "cell_type": "code",
   "execution_count": 198,
   "metadata": {},
   "outputs": [
    {
     "name": "stdout",
     "output_type": "stream",
     "text": [
      "Homogeneity: 0.479\n",
      "Completeness: 0.562\n",
      "V-measure: 0.517\n"
     ]
    }
   ],
   "source": [
    "print(\"Homogeneity: %0.3f\" % metrics.homogeneity_score(labels, km.labels_))\n",
    "print(\"Completeness: %0.3f\" % metrics.completeness_score(labels, km.labels_))\n",
    "print(\"V-measure: %0.3f\" % metrics.v_measure_score(labels, km.labels_))"
   ]
  },
  {
   "cell_type": "markdown",
   "metadata": {},
   "source": [
    "## K-Means on Data after SRP"
   ]
  },
  {
   "cell_type": "code",
   "execution_count": 160,
   "metadata": {
    "collapsed": true
   },
   "outputs": [],
   "source": [
    "# Apply SRP\n",
    "n_components = 2000\n",
    "SRP = random_projection.SparseRandomProjection(n_components=n_components)\n",
    "# Result after random projection\n",
    "vectors_SRP = SRP.fit_transform(vectors)"
   ]
  },
  {
   "cell_type": "code",
   "execution_count": 161,
   "metadata": {
    "collapsed": true
   },
   "outputs": [],
   "source": [
    "km = KMeans(n_clusters=true_k, init='k-means++', max_iter=100, n_init=20)\n",
    "\n",
    "start_time = timeit.default_timer()\n",
    "km.fit(vectors_SRP)\n",
    "elapsed_SRP = timeit.default_timer() - start_time"
   ]
  },
  {
   "cell_type": "code",
   "execution_count": 162,
   "metadata": {},
   "outputs": [
    {
     "name": "stdout",
     "output_type": "stream",
     "text": [
      "20.980950951983687\n"
     ]
    }
   ],
   "source": [
    "print(elapsed_SRP)"
   ]
  },
  {
   "cell_type": "code",
   "execution_count": 163,
   "metadata": {
    "scrolled": true
   },
   "outputs": [
    {
     "name": "stdout",
     "output_type": "stream",
     "text": [
      "Homogeneity: 0.465\n",
      "Completeness: 0.544\n",
      "V-measure: 0.501\n"
     ]
    }
   ],
   "source": [
    "print(\"Homogeneity: %0.3f\" % metrics.homogeneity_score(labels, km.labels_))\n",
    "print(\"Completeness: %0.3f\" % metrics.completeness_score(labels, km.labels_))\n",
    "print(\"V-measure: %0.3f\" % metrics.v_measure_score(labels, km.labels_))"
   ]
  },
  {
   "cell_type": "markdown",
   "metadata": {},
   "source": [
    "## Clustering on Data afte PCA"
   ]
  },
  {
   "cell_type": "code",
   "execution_count": 203,
   "metadata": {
    "collapsed": true
   },
   "outputs": [],
   "source": [
    "# Apply PCA\n",
    "n_components = 2000\n",
    "pca = PCA(n_components=n_components)\n",
    "# Result after random projection\n",
    "vectors_PCA = pca.fit(vectors).transform(vectors)"
   ]
  },
  {
   "cell_type": "code",
   "execution_count": 204,
   "metadata": {
    "collapsed": true
   },
   "outputs": [],
   "source": [
    "km = KMeans(n_clusters=true_k, init='k-means++', max_iter=100, n_init=20)\n",
    "\n",
    "start_time = timeit.default_timer()\n",
    "km.fit(vectors_PCA)\n",
    "elapsed_PCA = timeit.default_timer() - start_time"
   ]
  },
  {
   "cell_type": "code",
   "execution_count": 205,
   "metadata": {
    "scrolled": true
   },
   "outputs": [
    {
     "name": "stdout",
     "output_type": "stream",
     "text": [
      "15.920324229984544\n"
     ]
    }
   ],
   "source": [
    "print(elapsed_PCA)"
   ]
  },
  {
   "cell_type": "code",
   "execution_count": 206,
   "metadata": {},
   "outputs": [
    {
     "name": "stdout",
     "output_type": "stream",
     "text": [
      "Homogeneity: 0.461\n",
      "Completeness: 0.556\n",
      "V-measure: 0.504\n"
     ]
    }
   ],
   "source": [
    "print(\"Homogeneity: %0.3f\" % metrics.homogeneity_score(labels, km.labels_))\n",
    "print(\"Completeness: %0.3f\" % metrics.completeness_score(labels, km.labels_))\n",
    "print(\"V-measure: %0.3f\" % metrics.v_measure_score(labels, km.labels_))"
   ]
  },
  {
   "cell_type": "markdown",
   "metadata": {},
   "source": [
    "#  kNN on Image Data"
   ]
  },
  {
   "cell_type": "code",
   "execution_count": 66,
   "metadata": {
    "collapsed": true
   },
   "outputs": [],
   "source": [
    "## Data Preprocessing"
   ]
  },
  {
   "cell_type": "code",
   "execution_count": 15,
   "metadata": {
    "collapsed": true
   },
   "outputs": [],
   "source": [
    "# TODO: perform clustering and kNN on our image dataset\n",
    "# compare **performance** and **time complexity** before\n",
    "# and after random projection.\n",
    "data = fetch_olivetti_faces()\n",
    "targets = data.target\n",
    "\n",
    "data = data.images.reshape((len(data.images), -1))\n",
    "data = data[targets < 10]\n",
    "targets = targets[targets < 10]"
   ]
  },
  {
   "cell_type": "markdown",
   "metadata": {},
   "source": [
    "## Set up kNN Classifier"
   ]
  },
  {
   "cell_type": "code",
   "execution_count": 79,
   "metadata": {
    "collapsed": true
   },
   "outputs": [],
   "source": [
    "n_neighbors = 5\n",
    "weights = 'uniform'\n",
    "clf = neighbors.KNeighborsClassifier(n_neighbors, weights=weights)"
   ]
  },
  {
   "cell_type": "code",
   "execution_count": 91,
   "metadata": {
    "collapsed": true
   },
   "outputs": [],
   "source": [
    "def test_classifier_n_time(X, y, clf, test_size=0.4, y_names=None, n_time=100):\n",
    "    precision_sum = 0\n",
    "    recall_sum = 0\n",
    "    f1_sum = 0\n",
    "    for i in range(n_time):\n",
    "        X_train, X_test, y_train, y_test = cross_validation.train_test_split(X, y, test_size=test_size)\n",
    "\n",
    "        clf.fit(X_train, y_train)\n",
    "        y_predicted = clf.predict(X_test)\n",
    "\n",
    "        precision_sum += metrics.precision_score(y_test, y_predicted, average='weighted')\n",
    "        recall_sum += metrics.recall_score(y_test, y_predicted, average='weighted')\n",
    "        f1_sum += metrics.f1_score(y_test, y_predicted, average='weighted')\n",
    "    print(precision_sum/n_time, recall_sum/n_time, f1_sum/n_time)"
   ]
  },
  {
   "cell_type": "markdown",
   "metadata": {},
   "source": [
    "## kNN on Original Data"
   ]
  },
  {
   "cell_type": "code",
   "execution_count": 112,
   "metadata": {
    "collapsed": true
   },
   "outputs": [],
   "source": [
    "names = [str(i) for i in np.unique(targets)]"
   ]
  },
  {
   "cell_type": "code",
   "execution_count": 113,
   "metadata": {
    "scrolled": true
   },
   "outputs": [
    {
     "name": "stderr",
     "output_type": "stream",
     "text": [
      "/Users/ruizhi/anaconda/lib/python3.6/site-packages/sklearn/metrics/classification.py:1113: UndefinedMetricWarning: Precision is ill-defined and being set to 0.0 in labels with no predicted samples.\n",
      "  'precision', 'predicted', average, warn_for)\n",
      "/Users/ruizhi/anaconda/lib/python3.6/site-packages/sklearn/metrics/classification.py:1113: UndefinedMetricWarning: F-score is ill-defined and being set to 0.0 in labels with no predicted samples.\n",
      "  'precision', 'predicted', average, warn_for)\n",
      "/Users/ruizhi/anaconda/lib/python3.6/site-packages/sklearn/metrics/classification.py:1115: UndefinedMetricWarning: Recall is ill-defined and being set to 0.0 in labels with no true samples.\n",
      "  'recall', 'true', average, warn_for)\n",
      "/Users/ruizhi/anaconda/lib/python3.6/site-packages/sklearn/metrics/classification.py:1115: UndefinedMetricWarning: F-score is ill-defined and being set to 0.0 in labels with no true samples.\n",
      "  'recall', 'true', average, warn_for)\n"
     ]
    },
    {
     "name": "stdout",
     "output_type": "stream",
     "text": [
      "0.795008823121 0.70325 0.69800617483\n"
     ]
    }
   ],
   "source": [
    "start_time = timeit.default_timer()\n",
    "test_classifier_n_time(data, targets, clf, y_names=names, n_time=100)\n",
    "elapsed_original = timeit.default_timer() - start_time"
   ]
  },
  {
   "cell_type": "code",
   "execution_count": 114,
   "metadata": {},
   "outputs": [
    {
     "name": "stdout",
     "output_type": "stream",
     "text": [
      "1.5910276329959743\n"
     ]
    }
   ],
   "source": [
    "print(elapsed_original)"
   ]
  },
  {
   "cell_type": "markdown",
   "metadata": {},
   "source": [
    "## kNN on Data after RP"
   ]
  },
  {
   "cell_type": "code",
   "execution_count": 115,
   "metadata": {
    "collapsed": true
   },
   "outputs": [],
   "source": [
    "start_time = timeit.default_timer()\n",
    "# Apply RP\n",
    "n_components = 500\n",
    "RP = random_projection.GaussianRandomProjection(n_components=n_components)\n",
    "# Result after random projection\n",
    "vectors_RP = RP.fit_transform(data)\n",
    "elapsed_transform_RP = timeit.default_timer() - start_time"
   ]
  },
  {
   "cell_type": "code",
   "execution_count": 116,
   "metadata": {},
   "outputs": [
    {
     "name": "stdout",
     "output_type": "stream",
     "text": [
      "0.07784809000440873\n"
     ]
    }
   ],
   "source": [
    "print(elapsed_transform_RP)"
   ]
  },
  {
   "cell_type": "code",
   "execution_count": 117,
   "metadata": {},
   "outputs": [
    {
     "name": "stderr",
     "output_type": "stream",
     "text": [
      "/Users/ruizhi/anaconda/lib/python3.6/site-packages/sklearn/metrics/classification.py:1113: UndefinedMetricWarning: Precision is ill-defined and being set to 0.0 in labels with no predicted samples.\n",
      "  'precision', 'predicted', average, warn_for)\n",
      "/Users/ruizhi/anaconda/lib/python3.6/site-packages/sklearn/metrics/classification.py:1113: UndefinedMetricWarning: F-score is ill-defined and being set to 0.0 in labels with no predicted samples.\n",
      "  'precision', 'predicted', average, warn_for)\n",
      "/Users/ruizhi/anaconda/lib/python3.6/site-packages/sklearn/metrics/classification.py:1115: UndefinedMetricWarning: Recall is ill-defined and being set to 0.0 in labels with no true samples.\n",
      "  'recall', 'true', average, warn_for)\n",
      "/Users/ruizhi/anaconda/lib/python3.6/site-packages/sklearn/metrics/classification.py:1115: UndefinedMetricWarning: F-score is ill-defined and being set to 0.0 in labels with no true samples.\n",
      "  'recall', 'true', average, warn_for)\n"
     ]
    },
    {
     "name": "stdout",
     "output_type": "stream",
     "text": [
      "0.787266789461 0.69325 0.684887746733\n"
     ]
    }
   ],
   "source": [
    "start_time = timeit.default_timer()\n",
    "test_classifier_n_time(vectors_RP, targets, clf, y_names=names, n_time=100)\n",
    "elapsed_RP = timeit.default_timer() - start_time"
   ]
  },
  {
   "cell_type": "code",
   "execution_count": 118,
   "metadata": {},
   "outputs": [
    {
     "name": "stdout",
     "output_type": "stream",
     "text": [
      "0.3811886870244052\n"
     ]
    }
   ],
   "source": [
    "print(elapsed_RP)"
   ]
  },
  {
   "cell_type": "markdown",
   "metadata": {},
   "source": [
    "## kNN on Data after SRP"
   ]
  },
  {
   "cell_type": "code",
   "execution_count": 137,
   "metadata": {
    "collapsed": true
   },
   "outputs": [],
   "source": [
    "start_time = timeit.default_timer()\n",
    "# Apply SRP\n",
    "n_components = 500\n",
    "SRP = random_projection.SparseRandomProjection(n_components=n_components)\n",
    "# Result after random projection\n",
    "vectors_SRP = SRP.fit_transform(data)\n",
    "vectors_SRP.shape\n",
    "elapsed_transform_SRP = timeit.default_timer() - start_time"
   ]
  },
  {
   "cell_type": "code",
   "execution_count": 138,
   "metadata": {},
   "outputs": [
    {
     "name": "stdout",
     "output_type": "stream",
     "text": [
      "0.05168343900004402\n"
     ]
    }
   ],
   "source": [
    "print(elapsed_transform_SRP)"
   ]
  },
  {
   "cell_type": "code",
   "execution_count": 139,
   "metadata": {
    "scrolled": true
   },
   "outputs": [
    {
     "name": "stderr",
     "output_type": "stream",
     "text": [
      "/Users/ruizhi/anaconda/lib/python3.6/site-packages/sklearn/metrics/classification.py:1115: UndefinedMetricWarning: Recall is ill-defined and being set to 0.0 in labels with no true samples.\n",
      "  'recall', 'true', average, warn_for)\n",
      "/Users/ruizhi/anaconda/lib/python3.6/site-packages/sklearn/metrics/classification.py:1115: UndefinedMetricWarning: F-score is ill-defined and being set to 0.0 in labels with no true samples.\n",
      "  'recall', 'true', average, warn_for)\n",
      "/Users/ruizhi/anaconda/lib/python3.6/site-packages/sklearn/metrics/classification.py:1113: UndefinedMetricWarning: Precision is ill-defined and being set to 0.0 in labels with no predicted samples.\n",
      "  'precision', 'predicted', average, warn_for)\n",
      "/Users/ruizhi/anaconda/lib/python3.6/site-packages/sklearn/metrics/classification.py:1113: UndefinedMetricWarning: F-score is ill-defined and being set to 0.0 in labels with no predicted samples.\n",
      "  'precision', 'predicted', average, warn_for)\n"
     ]
    },
    {
     "name": "stdout",
     "output_type": "stream",
     "text": [
      "0.797896849229 0.70175 0.697869928397\n"
     ]
    }
   ],
   "source": [
    "start_time = timeit.default_timer()\n",
    "test_classifier_n_time(vectors_SRP, targets, clf, y_names=names, n_time=100)\n",
    "elapsed_SRP = timeit.default_timer() - start_time"
   ]
  },
  {
   "cell_type": "code",
   "execution_count": 140,
   "metadata": {},
   "outputs": [
    {
     "name": "stdout",
     "output_type": "stream",
     "text": [
      "0.3587158969894517\n"
     ]
    }
   ],
   "source": [
    "print(elapsed_SRP)"
   ]
  },
  {
   "cell_type": "markdown",
   "metadata": {},
   "source": [
    "## kNN on Data after PCA"
   ]
  },
  {
   "cell_type": "code",
   "execution_count": 141,
   "metadata": {
    "collapsed": true
   },
   "outputs": [],
   "source": [
    "start_time = timeit.default_timer()\n",
    "# Apply SRP\n",
    "n_components = 500\n",
    "pca = PCA(n_components=n_components)\n",
    "# Result after random projection\n",
    "vectors_PCA = pca.fit(data).transform(data)\n",
    "vectors_PCA.shape\n",
    "elapsed_transform_PCA = timeit.default_timer() - start_time"
   ]
  },
  {
   "cell_type": "code",
   "execution_count": 142,
   "metadata": {},
   "outputs": [
    {
     "name": "stdout",
     "output_type": "stream",
     "text": [
      "0.02341742001590319\n"
     ]
    }
   ],
   "source": [
    "print(elapsed_transform_PCA)"
   ]
  },
  {
   "cell_type": "code",
   "execution_count": 143,
   "metadata": {
    "scrolled": true
   },
   "outputs": [
    {
     "name": "stderr",
     "output_type": "stream",
     "text": [
      "/Users/ruizhi/anaconda/lib/python3.6/site-packages/sklearn/metrics/classification.py:1113: UndefinedMetricWarning: Precision is ill-defined and being set to 0.0 in labels with no predicted samples.\n",
      "  'precision', 'predicted', average, warn_for)\n",
      "/Users/ruizhi/anaconda/lib/python3.6/site-packages/sklearn/metrics/classification.py:1113: UndefinedMetricWarning: F-score is ill-defined and being set to 0.0 in labels with no predicted samples.\n",
      "  'precision', 'predicted', average, warn_for)\n",
      "/Users/ruizhi/anaconda/lib/python3.6/site-packages/sklearn/metrics/classification.py:1115: UndefinedMetricWarning: Recall is ill-defined and being set to 0.0 in labels with no true samples.\n",
      "  'recall', 'true', average, warn_for)\n",
      "/Users/ruizhi/anaconda/lib/python3.6/site-packages/sklearn/metrics/classification.py:1115: UndefinedMetricWarning: F-score is ill-defined and being set to 0.0 in labels with no true samples.\n",
      "  'recall', 'true', average, warn_for)\n"
     ]
    },
    {
     "name": "stdout",
     "output_type": "stream",
     "text": [
      "0.800054184704 0.7065 0.703010244616\n"
     ]
    }
   ],
   "source": [
    "start_time = timeit.default_timer()\n",
    "test_classifier_n_time(vectors_PCA, targets, clf, y_names=names, n_time=100)\n",
    "elapsed_PCA = timeit.default_timer() - start_time"
   ]
  },
  {
   "cell_type": "code",
   "execution_count": 144,
   "metadata": {},
   "outputs": [
    {
     "name": "stdout",
     "output_type": "stream",
     "text": [
      "0.21940164497937076\n"
     ]
    }
   ],
   "source": [
    "print(elapsed_PCA)"
   ]
  },
  {
   "cell_type": "markdown",
   "metadata": {},
   "source": [
    "# Clustering on Image Data"
   ]
  },
  {
   "cell_type": "code",
   "execution_count": 151,
   "metadata": {
    "collapsed": true
   },
   "outputs": [],
   "source": [
    "dataset = fetch_olivetti_faces()\n",
    "labels = dataset.target\n",
    "faces = dataset.data\n",
    "\n",
    "faces = faces[labels < 10]\n",
    "labels = labels[labels < 10]"
   ]
  },
  {
   "cell_type": "code",
   "execution_count": 152,
   "metadata": {
    "scrolled": true
   },
   "outputs": [
    {
     "data": {
      "text/plain": [
       "10"
      ]
     },
     "execution_count": 152,
     "metadata": {},
     "output_type": "execute_result"
    }
   ],
   "source": [
    "true_k = np.unique(labels).shape[0]\n",
    "true_k"
   ]
  },
  {
   "cell_type": "markdown",
   "metadata": {},
   "source": [
    "# K-Means on Original Data"
   ]
  },
  {
   "cell_type": "code",
   "execution_count": 154,
   "metadata": {
    "collapsed": true
   },
   "outputs": [],
   "source": [
    "km = KMeans(n_clusters=true_k, init='k-means++', max_iter=500, n_init=40)\n",
    "\n",
    "start_time = timeit.default_timer()\n",
    "km.fit(faces)\n",
    "elapsed_original = timeit.default_timer() - start_time"
   ]
  },
  {
   "cell_type": "code",
   "execution_count": 155,
   "metadata": {},
   "outputs": [
    {
     "name": "stdout",
     "output_type": "stream",
     "text": [
      "0.3811886870244052\n",
      "Homogeneity: 0.646\n",
      "Completeness: 0.675\n",
      "V-measure: 0.660\n"
     ]
    }
   ],
   "source": [
    "print(elapsed_RP)\n",
    "print(\"Homogeneity: %0.3f\" % metrics.homogeneity_score(labels, km.labels_))\n",
    "print(\"Completeness: %0.3f\" % metrics.completeness_score(labels, km.labels_))\n",
    "print(\"V-measure: %0.3f\" % metrics.v_measure_score(labels, km.labels_))"
   ]
  },
  {
   "cell_type": "markdown",
   "metadata": {},
   "source": [
    "# K-Means on Data after RP"
   ]
  },
  {
   "cell_type": "code",
   "execution_count": 156,
   "metadata": {
    "collapsed": true
   },
   "outputs": [],
   "source": [
    "# Apply RP\n",
    "n_components = 500\n",
    "RP = random_projection.GaussianRandomProjection(n_components=n_components)\n",
    "# Result after random projection\n",
    "vectors_RP = RP.fit_transform(faces)"
   ]
  },
  {
   "cell_type": "code",
   "execution_count": 157,
   "metadata": {
    "collapsed": true
   },
   "outputs": [],
   "source": [
    "km = KMeans(n_clusters=true_k, init='k-means++', max_iter=500, n_init=40)\n",
    "\n",
    "start_time = timeit.default_timer()\n",
    "km.fit(vectors_RP)\n",
    "elapsed_RP = timeit.default_timer() - start_time"
   ]
  },
  {
   "cell_type": "code",
   "execution_count": 158,
   "metadata": {},
   "outputs": [
    {
     "name": "stdout",
     "output_type": "stream",
     "text": [
      "0.18144337998819537\n",
      "Homogeneity: 0.639\n",
      "Completeness: 0.667\n",
      "V-measure: 0.653\n"
     ]
    }
   ],
   "source": [
    "print(elapsed_RP)\n",
    "print(\"Homogeneity: %0.3f\" % metrics.homogeneity_score(labels, km.labels_))\n",
    "print(\"Completeness: %0.3f\" % metrics.completeness_score(labels, km.labels_))\n",
    "print(\"V-measure: %0.3f\" % metrics.v_measure_score(labels, km.labels_))"
   ]
  },
  {
   "cell_type": "markdown",
   "metadata": {},
   "source": [
    "# K-Means on Data after SRP"
   ]
  },
  {
   "cell_type": "code",
   "execution_count": 159,
   "metadata": {
    "collapsed": true
   },
   "outputs": [],
   "source": [
    "# Apply SRP\n",
    "n_components = 500\n",
    "SRP = random_projection.SparseRandomProjection(n_components=n_components)\n",
    "# Result after random projection\n",
    "vectors_SRP = SRP.fit_transform(faces)"
   ]
  },
  {
   "cell_type": "code",
   "execution_count": 160,
   "metadata": {
    "collapsed": true
   },
   "outputs": [],
   "source": [
    "km = KMeans(n_clusters=true_k, init='k-means++', max_iter=500, n_init=40)\n",
    "\n",
    "start_time = timeit.default_timer()\n",
    "km.fit(vectors_SRP)\n",
    "elapsed_SRP = timeit.default_timer() - start_time"
   ]
  },
  {
   "cell_type": "code",
   "execution_count": 161,
   "metadata": {},
   "outputs": [
    {
     "name": "stdout",
     "output_type": "stream",
     "text": [
      "0.1742935010115616\n",
      "Homogeneity: 0.599\n",
      "Completeness: 0.620\n",
      "V-measure: 0.609\n"
     ]
    }
   ],
   "source": [
    "print(elapsed_SRP)\n",
    "print(\"Homogeneity: %0.3f\" % metrics.homogeneity_score(labels, km.labels_))\n",
    "print(\"Completeness: %0.3f\" % metrics.completeness_score(labels, km.labels_))\n",
    "print(\"V-measure: %0.3f\" % metrics.v_measure_score(labels, km.labels_))"
   ]
  },
  {
   "cell_type": "markdown",
   "metadata": {},
   "source": [
    "\n",
    "# Clustering on Data afte PCA"
   ]
  },
  {
   "cell_type": "code",
   "execution_count": 162,
   "metadata": {
    "collapsed": true
   },
   "outputs": [],
   "source": [
    "# Apply PCA\n",
    "n_components = 500\n",
    "pca = PCA(n_components=n_components)\n",
    "# Result after random projection\n",
    "vectors_PCA = pca.fit(faces).transform(faces)"
   ]
  },
  {
   "cell_type": "code",
   "execution_count": 163,
   "metadata": {
    "collapsed": true
   },
   "outputs": [],
   "source": [
    "km = KMeans(n_clusters=true_k, init='k-means++', max_iter=500, n_init=40)\n",
    "\n",
    "start_time = timeit.default_timer()\n",
    "km.fit(vectors_PCA)\n",
    "elapsed_PCA = timeit.default_timer() - start_time"
   ]
  },
  {
   "cell_type": "code",
   "execution_count": 164,
   "metadata": {},
   "outputs": [
    {
     "name": "stdout",
     "output_type": "stream",
     "text": [
      "0.11414412100566551\n",
      "Homogeneity: 0.580\n",
      "Completeness: 0.603\n",
      "V-measure: 0.591\n"
     ]
    }
   ],
   "source": [
    "print(elapsed_PCA)\n",
    "print(\"Homogeneity: %0.3f\" % metrics.homogeneity_score(labels, km.labels_))\n",
    "print(\"Completeness: %0.3f\" % metrics.completeness_score(labels, km.labels_))\n",
    "print(\"V-measure: %0.3f\" % metrics.v_measure_score(labels, km.labels_))"
   ]
  },
  {
   "cell_type": "code",
   "execution_count": null,
   "metadata": {
    "collapsed": true
   },
   "outputs": [],
   "source": []
  }
 ],
 "metadata": {
  "anaconda-cloud": {},
  "kernelspec": {
   "display_name": "Python 3",
   "language": "python",
   "name": "python3"
  },
  "language_info": {
   "codemirror_mode": {
    "name": "ipython",
    "version": 3
   },
   "file_extension": ".py",
   "mimetype": "text/x-python",
   "name": "python",
   "nbconvert_exporter": "python",
   "pygments_lexer": "ipython3",
   "version": "3.6.1"
  }
 },
 "nbformat": 4,
 "nbformat_minor": 2
}
