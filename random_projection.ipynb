{
 "cells": [
  {
   "cell_type": "markdown",
   "metadata": {},
   "source": [
    "                                CS5234 Combinatorial And Graph Algorithms\n",
    "                                \n",
    "\n",
    "Progress Report.\n",
    "\n",
    "We have found two dataset, one the text data and the other is image data. We have already perfomred random projection on the text data, and tried Kmean clustering.\n",
    "                                \n",
    "\n",
    "** Some helpful links for learning about the basics of random projection and J-L lemma **\n",
    "\n",
    "\n",
    "#### J-L Lemma\n",
    "* This blog post http://www.johnmyleswhite.com/notebook/2014/03/24/a-note-on-the-johnson-lindenstrauss-lemma/ is a good start for learning about J-L lemma and random projection. DO READ IT.\n",
    "\n",
    "#### Random Projection\n",
    "* This paper http://citeseerx.ist.psu.edu/viewdoc/download?doi=10.1.1.76.8124&rep=rep1&type=pdf gives a thorough introduction of random projection and its experimental performance.\n",
    "\n",
    "#### Working with RP in sklearn\n",
    "* Random projection: http://scikit-learn.org/stable/modules/random_projection.html\n",
    "* J-L lemma: http://scikit-learn.org/stable/auto_examples/plot_johnson_lindenstrauss_bound.html\n"
   ]
  },
  {
   "cell_type": "code",
   "execution_count": 1,
   "metadata": {
    "collapsed": false
   },
   "outputs": [
    {
     "name": "stderr",
     "output_type": "stream",
     "text": [
      "C:\\Users\\chensz\\Anaconda3\\lib\\site-packages\\sklearn\\cross_validation.py:44: DeprecationWarning: This module was deprecated in version 0.18 in favor of the model_selection module into which all the refactored classes and functions are moved. Also note that the interface of the new CV iterators are different from that of this module. This module will be removed in 0.20.\n",
      "  \"This module will be removed in 0.20.\", DeprecationWarning)\n"
     ]
    }
   ],
   "source": [
    "import numpy as np\n",
    "from sklearn import random_projection\n",
    "from sklearn import neighbors, datasets, metrics, cross_validation\n",
    "from sklearn.decomposition import PCA\n",
    "from sklearn.random_projection import johnson_lindenstrauss_min_dim\n",
    "from sklearn.metrics.pairwise import euclidean_distances\n",
    "from sklearn.cluster import KMeans\n",
    "import timeit"
   ]
  },
  {
   "cell_type": "markdown",
   "metadata": {},
   "source": [
    "# Using sklearn for Random Projection\n",
    "The following few blocks demonstrate how we can perform random projection using sklearn. "
   ]
  },
  {
   "cell_type": "code",
   "execution_count": 2,
   "metadata": {
    "collapsed": false
   },
   "outputs": [
    {
     "data": {
      "text/plain": [
       "1594"
      ]
     },
     "execution_count": 2,
     "metadata": {},
     "output_type": "execute_result"
    }
   ],
   "source": [
    "# the min dimension that guarantees the specific epsilon, determined by J-L Lemma\n",
    "k_min = johnson_lindenstrauss_min_dim(n_samples=1e3, eps=0.2)\n",
    "k_min"
   ]
  },
  {
   "cell_type": "code",
   "execution_count": 3,
   "metadata": {
    "collapsed": true
   },
   "outputs": [],
   "source": [
    "# Examplar data before random projection\n",
    "X = np.random.rand(1000, 10000) # the first dim is number of samples, second is original number of features"
   ]
  },
  {
   "cell_type": "code",
   "execution_count": 4,
   "metadata": {
    "collapsed": true
   },
   "outputs": [],
   "source": [
    "RP = random_projection.GaussianRandomProjection(n_components=k_min, eps=0.2)"
   ]
  },
  {
   "cell_type": "code",
   "execution_count": 5,
   "metadata": {
    "collapsed": false
   },
   "outputs": [
    {
     "data": {
      "text/plain": [
       "(1000, 1594)"
      ]
     },
     "execution_count": 5,
     "metadata": {},
     "output_type": "execute_result"
    }
   ],
   "source": [
    "# Result after random projection\n",
    "X_new = RP.fit_transform(X)\n",
    "X_new.shape"
   ]
  },
  {
   "cell_type": "code",
   "execution_count": 6,
   "metadata": {
    "collapsed": true
   },
   "outputs": [],
   "source": [
    "SRP = random_projection.SparseRandomProjection(n_components=k_min, eps=0.2)"
   ]
  },
  {
   "cell_type": "code",
   "execution_count": 7,
   "metadata": {
    "collapsed": false
   },
   "outputs": [
    {
     "data": {
      "text/plain": [
       "(1000, 1594)"
      ]
     },
     "execution_count": 7,
     "metadata": {},
     "output_type": "execute_result"
    }
   ],
   "source": [
    "# Result after sparse random projection\n",
    "X_new = SRP.fit_transform(X)\n",
    "X_new.shape"
   ]
  },
  {
   "cell_type": "markdown",
   "metadata": {},
   "source": [
    "# Using RP on Text Data"
   ]
  },
  {
   "cell_type": "code",
   "execution_count": 8,
   "metadata": {
    "collapsed": true
   },
   "outputs": [],
   "source": [
    "from sklearn.datasets import fetch_20newsgroups_vectorized, fetch_20newsgroups\n",
    "import numpy as np\n",
    "import matplotlib.pyplot as plt\n",
    "from sklearn.metrics.pairwise import euclidean_distances\n",
    "from time import time\n",
    "from sklearn.random_projection import SparseRandomProjection"
   ]
  },
  {
   "cell_type": "code",
   "execution_count": 9,
   "metadata": {
    "collapsed": false
   },
   "outputs": [],
   "source": [
    "data = fetch_20newsgroups_vectorized().data[:500]"
   ]
  },
  {
   "cell_type": "code",
   "execution_count": 10,
   "metadata": {
    "collapsed": false
   },
   "outputs": [
    {
     "name": "stdout",
     "output_type": "stream",
     "text": [
      "Embedding 500 samples with dim 130107 using various random projections\n"
     ]
    }
   ],
   "source": [
    "n_samples, n_features = data.shape\n",
    "print(\"Embedding %d samples with dim %d using various random projections\"\n",
    "      % (n_samples, n_features))\n",
    "\n",
    "n_components_range = np.array([1000, 2000]) # can try with 300, 1000, 10000\n",
    "dists = euclidean_distances(data, squared=True).ravel()\n",
    "\n",
    "# select only non-identical samples pairs\n",
    "nonzero = dists != 0\n",
    "dists = dists[nonzero]"
   ]
  },
  {
   "cell_type": "code",
   "execution_count": 11,
   "metadata": {
    "collapsed": false
   },
   "outputs": [
    {
     "name": "stdout",
     "output_type": "stream",
     "text": [
      "Require 2717 dimensions after projection according to J-L lemma\n"
     ]
    }
   ],
   "source": [
    "k_min = johnson_lindenstrauss_min_dim(n_samples=n_features, eps=0.2)\n",
    "print(\"Require %d dimensions after projection according to J-L lemma\"\n",
    "      % (k_min))"
   ]
  },
  {
   "cell_type": "code",
   "execution_count": 12,
   "metadata": {
    "collapsed": false
   },
   "outputs": [
    {
     "name": "stdout",
     "output_type": "stream",
     "text": [
      "Projected 500 samples from 130107 to 1000 in 0.524s\n",
      "Random matrix with size: 4.343MB\n",
      "Mean distances rate: 0.98 (0.10)\n",
      "Projected 500 samples from 130107 to 2000 in 1.042s\n",
      "Random matrix with size: 8.662MB\n",
      "Mean distances rate: 1.02 (0.07)\n"
     ]
    },
    {
     "data": {
      "image/png": "[encoded data removed]",
      "text/plain": [
       "<matplotlib.figure.Figure at 0x2788a805ac8>"
      ]
     },
     "metadata": {},
     "output_type": "display_data"
    },
    {
     "data": {
      "image/png": "[encoded data removed]",
      "text/plain": [
       "<matplotlib.figure.Figure at 0x2788b445278>"
      ]
     },
     "metadata": {},
     "output_type": "display_data"
    },
    {
     "data": {
      "image/png": "[encoded data removed]",
      "text/plain": [
       "<matplotlib.figure.Figure at 0x2788b237c50>"
      ]
     },
     "metadata": {},
     "output_type": "display_data"
    },
    {
     "data": {
      "image/png": "[encoded data removed]",
      "text/plain": [
       "<matplotlib.figure.Figure at 0x2788b60aef0>"
      ]
     },
     "metadata": {},
     "output_type": "display_data"
    }
   ],
   "source": [
    "for n_components in n_components_range:\n",
    "    t0 = time()\n",
    "    rp = SparseRandomProjection(n_components=n_components)\n",
    "    projected_data = rp.fit_transform(data)\n",
    "    print(\"Projected %d samples from %d to %d in %0.3fs\"\n",
    "          % (n_samples, n_features, n_components, time() - t0))\n",
    "    if hasattr(rp, 'components_'):\n",
    "        n_bytes = rp.components_.data.nbytes\n",
    "        n_bytes += rp.components_.indices.nbytes\n",
    "        print(\"Random matrix with size: %0.3fMB\" % (n_bytes / 1e6))\n",
    "\n",
    "    projected_dists = euclidean_distances(\n",
    "        projected_data, squared=True).ravel()[nonzero]\n",
    "\n",
    "    plt.figure()\n",
    "    plt.hexbin(dists, projected_dists, gridsize=100, cmap=plt.cm.PuBu)\n",
    "    plt.xlabel(\"Pairwise squared distances in original space\")\n",
    "    plt.ylabel(\"Pairwise squared distances in projected space\")\n",
    "    plt.title(\"Pairwise distances distribution for n_components=%d\" %\n",
    "              n_components)\n",
    "    cb = plt.colorbar()\n",
    "    cb.set_label('Sample pairs counts')\n",
    "\n",
    "    rates = projected_dists / dists\n",
    "    print(\"Mean distances rate: %0.2f (%0.2f)\"\n",
    "          % (np.mean(rates), np.std(rates)))\n",
    "\n",
    "    plt.figure()\n",
    "    plt.hist(rates, bins=50, normed=True, range=(0., 2.), edgecolor='k')\n",
    "    plt.xlabel(\"Squared distances rate: projected / original\")\n",
    "    plt.ylabel(\"Distribution of samples pairs\")\n",
    "    plt.title(\"Histogram of pairwise distance rates for n_components=%d\" %\n",
    "              n_components)\n",
    "\n",
    "plt.show()"
   ]
  },
  {
   "cell_type": "markdown",
   "metadata": {},
   "source": [
    "# Using RP on Image Data"
   ]
  },
  {
   "cell_type": "code",
   "execution_count": 13,
   "metadata": {
    "collapsed": true
   },
   "outputs": [],
   "source": [
    "# TODO: find some image dataset, better with label,\n",
    "# so that it can be used both for clustering and kNN.\n",
    "# Surveillance camera data can be a fit."
   ]
  },
  {
   "cell_type": "markdown",
   "metadata": {},
   "source": [
    "# Clustering on Text Data"
   ]
  },
  {
   "cell_type": "code",
   "execution_count": 56,
   "metadata": {
    "collapsed": false
   },
   "outputs": [
    {
     "name": "stdout",
     "output_type": "stream",
     "text": [
      "18846 documents\n",
      "20 categories\n",
      "\n",
      "Extracting features from the training dataset using a sparse vectorizer\n",
      "done in 431.726813s\n",
      "n_samples: 18846, n_features: 10000\n",
      "\n"
     ]
    }
   ],
   "source": [
    "# Prepare data.\n",
    "\n",
    "from sklearn.feature_extraction.text import TfidfVectorizer\n",
    "\n",
    "# Load some categories from the training set\n",
    "categories = ['alt.atheism',\n",
    " 'comp.graphics',\n",
    " 'comp.os.ms-windows.misc',\n",
    " 'comp.sys.ibm.pc.hardware',\n",
    " 'comp.sys.mac.hardware',\n",
    " 'comp.windows.x',\n",
    " 'misc.forsale',\n",
    " 'rec.autos',\n",
    " 'rec.motorcycles',\n",
    " 'rec.sport.baseball',\n",
    " 'rec.sport.hockey',\n",
    " 'sci.crypt',\n",
    " 'sci.electronics',\n",
    " 'sci.med',\n",
    " 'sci.space',\n",
    " 'soc.religion.christian',\n",
    " 'talk.politics.guns',\n",
    " 'talk.politics.mideast',\n",
    " 'talk.politics.misc',\n",
    " 'talk.religion.misc']\n",
    "dataset = fetch_20newsgroups(subset='all', categories=categories,\n",
    "                             shuffle=True, random_state=42)\n",
    "\n",
    "print(\"%d documents\" % len(dataset.data))\n",
    "print(\"%d categories\" % len(dataset.target_names))\n",
    "print()\n",
    "\n",
    "labels = dataset.target\n",
    "true_k = np.unique(labels).shape[0]\n",
    "\n",
    "print(\"Extracting features from the training dataset using a sparse vectorizer\")\n",
    "vectorizer = TfidfVectorizer(max_df=0.5, max_features=10000,\n",
    "                                 min_df=2, stop_words='english',\n",
    "                                 use_idf=True)\n",
    "X = vectorizer.fit_transform(dataset.data)\n",
    "print(\"done in %fs\" % (time() - t0))\n",
    "print(\"n_samples: %d, n_features: %d\" % X.shape)\n",
    "print()\n"
   ]
  },
  {
   "cell_type": "code",
   "execution_count": 57,
   "metadata": {
    "collapsed": false
   },
   "outputs": [
    {
     "name": "stdout",
     "output_type": "stream",
     "text": [
      "Clustering sparse data with KMeans(algorithm='auto', copy_x=True, init='k-means++', max_iter=100,\n",
      "    n_clusters=20, n_init=1, n_jobs=1, precompute_distances='auto',\n",
      "    random_state=None, tol=0.0001, verbose=False)\n",
      "done in 63.178s\n",
      "\n",
      "Homogeneity: 0.339\n",
      "Completeness: 0.418\n",
      "V-measure: 0.375\n",
      "Adjusted Rand-Index: 0.125\n",
      "Silhouette Coefficient: 0.006\n",
      "\n"
     ]
    }
   ],
   "source": [
    "# Cluster before PR\n",
    "km = KMeans(n_clusters=true_k, init='k-means++', max_iter=100, n_init=1,\n",
    "                verbose=False)\n",
    "print(\"Clustering sparse data with %s\" % km)\n",
    "t0 = time()\n",
    "km.fit(X)\n",
    "print(\"done in %0.3fs\" % (time() - t0))\n",
    "print()\n",
    "print(\"Homogeneity: %0.3f\" % metrics.homogeneity_score(labels, km.labels_))\n",
    "print(\"Completeness: %0.3f\" % metrics.completeness_score(labels, km.labels_))\n",
    "print(\"V-measure: %0.3f\" % metrics.v_measure_score(labels, km.labels_))\n",
    "print(\"Adjusted Rand-Index: %.3f\"\n",
    "      % metrics.adjusted_rand_score(labels, km.labels_))\n",
    "print(\"Silhouette Coefficient: %0.3f\"\n",
    "      % metrics.silhouette_score(X, km.labels_, sample_size=1000))\n",
    "\n",
    "print()"
   ]
  },
  {
   "cell_type": "code",
   "execution_count": 74,
   "metadata": {
    "collapsed": false
   },
   "outputs": [
    {
     "name": "stdout",
     "output_type": "stream",
     "text": [
      "(18846, 10000)\n",
      "(18846, 2000)\n",
      "(18846, 2000)\n",
      "(18846, 2000)\n"
     ]
    }
   ],
   "source": [
    "print(X.shape)\n",
    "\n",
    "#from 10000 -> 2000. (dimension reduction)\n",
    "n_components = 2000\n",
    "\n",
    "\n",
    "# Apply RP\n",
    "\n",
    "RP = random_projection.GaussianRandomProjection(n_components=n_components)\n",
    "vectors_RP = RP.fit_transform(X)\n",
    "print(vectors_RP.shape)\n",
    "\n",
    "#Output:\n",
    "#Clustering sparse data with KMeans(algorithm='auto', copy_x=True, init='k-means++', max_iter=100,\n",
    "#    n_clusters=20, n_init=1, n_jobs=1, precompute_distances='auto',\n",
    "#    random_state=None, tol=0.0001, verbose=False)\n",
    "#done in 20.899s\n",
    "\n",
    "#Homogeneity: 0.337\n",
    "#Completeness: 0.411\n",
    "#V-measure: 0.370\n",
    "#Adjusted Rand-Index: 0.144\n",
    "#Silhouette Coefficient: 0.009\n",
    "\n",
    "\n",
    "# Apply SRP (take very long time to cluster....)\n",
    "n_components = 2000\n",
    "SRP = random_projection.SparseRandomProjection(n_components=n_components)\n",
    "# Result after random projection\n",
    "vectors_SRP = SRP.fit_transform(X)\n",
    "print(vectors_SRP.shape)\n",
    "\n",
    "\n",
    "# Apply LSA\n",
    "# Vectorizer results are normalized, which makes KMeans behave as\n",
    "# spherical k-means for better results. Since LSA/SVD results are\n",
    "# not normalized, we have to redo the normalization.\n",
    "from sklearn.pipeline import make_pipeline\n",
    "from sklearn.preprocessing import Normalizer\n",
    "from sklearn.decomposition import TruncatedSVD\n",
    "\n",
    "svd = TruncatedSVD(n_components)\n",
    "normalizer = Normalizer(copy=False)\n",
    "lsa = make_pipeline(svd, normalizer)\n",
    "vectors_LSA = lsa.fit_transform(X)\n",
    "print(vectors_LSA.shape)\n",
    "\n",
    "\n",
    "#Output:\n",
    "#Clustering sparse data with KMeans(algorithm='auto', copy_x=True, init='k-means++', max_iter=100,\n",
    "#    n_clusters=20, n_init=1, n_jobs=1, precompute_distances='auto',\n",
    "#    random_state=None, tol=0.0001, verbose=False)\n",
    "#done in 10.961s\n",
    "\n",
    "#Homogeneity: 0.399\n",
    "#Completeness: 0.479\n",
    "#V-measure: 0.436\n",
    "#Adjusted Rand-Index: 0.184\n",
    "#Silhouette Coefficient: 0.009"
   ]
  },
  {
   "cell_type": "code",
   "execution_count": 75,
   "metadata": {
    "collapsed": false
   },
   "outputs": [
    {
     "name": "stdout",
     "output_type": "stream",
     "text": [
      "Clustering sparse data with KMeans(algorithm='auto', copy_x=True, init='k-means++', max_iter=100,\n",
      "    n_clusters=20, n_init=1, n_jobs=1, precompute_distances='auto',\n",
      "    random_state=None, tol=0.0001, verbose=False)\n",
      "done in 10.961s\n",
      "\n",
      "Homogeneity: 0.399\n",
      "Completeness: 0.479\n",
      "V-measure: 0.436\n",
      "Adjusted Rand-Index: 0.184\n",
      "Silhouette Coefficient: 0.009\n",
      "\n"
     ]
    }
   ],
   "source": [
    "# After RP.\n",
    "km = KMeans(n_clusters=true_k, init='k-means++', max_iter=100, n_init=1,\n",
    "                verbose=False)\n",
    "print(\"Clustering sparse data with %s\" % km)\n",
    "t0 = time()\n",
    "km.fit(vectors_LSA)\n",
    "print(\"done in %0.3fs\" % (time() - t0))\n",
    "print()\n",
    "print(\"Homogeneity: %0.3f\" % metrics.homogeneity_score(labels, km.labels_))\n",
    "print(\"Completeness: %0.3f\" % metrics.completeness_score(labels, km.labels_))\n",
    "print(\"V-measure: %0.3f\" % metrics.v_measure_score(labels, km.labels_))\n",
    "print(\"Adjusted Rand-Index: %.3f\"\n",
    "      % metrics.adjusted_rand_score(labels, km.labels_))\n",
    "print(\"Silhouette Coefficient: %0.3f\"\n",
    "      % metrics.silhouette_score(X, km.labels_, sample_size=1000))\n",
    "\n",
    "print()"
   ]
  },
  {
   "cell_type": "markdown",
   "metadata": {},
   "source": [
    "# kNN on Text Data"
   ]
  },
  {
   "cell_type": "markdown",
   "metadata": {},
   "source": [
    "## Data Preprocessing"
   ]
  },
  {
   "cell_type": "code",
   "execution_count": 9,
   "metadata": {
    "collapsed": true
   },
   "outputs": [],
   "source": [
    "# TODO: perform kNN on our text dataset\n",
    "# compare **performance** and **time complexity** before\n",
    "# and after random projection.\n",
    "newsgroups_train = fetch_20newsgroups(subset='train')"
   ]
  },
  {
   "cell_type": "code",
   "execution_count": 16,
   "metadata": {
    "collapsed": false,
    "scrolled": true
   },
   "outputs": [
    {
     "data": {
      "text/plain": [
       "['alt.atheism',\n",
       " 'comp.graphics',\n",
       " 'comp.os.ms-windows.misc',\n",
       " 'comp.sys.ibm.pc.hardware',\n",
       " 'comp.sys.mac.hardware',\n",
       " 'comp.windows.x',\n",
       " 'misc.forsale',\n",
       " 'rec.autos',\n",
       " 'rec.motorcycles',\n",
       " 'rec.sport.baseball',\n",
       " 'rec.sport.hockey',\n",
       " 'sci.crypt',\n",
       " 'sci.electronics',\n",
       " 'sci.med',\n",
       " 'sci.space',\n",
       " 'soc.religion.christian',\n",
       " 'talk.politics.guns',\n",
       " 'talk.politics.mideast',\n",
       " 'talk.politics.misc',\n",
       " 'talk.religion.misc']"
      ]
     },
     "execution_count": 16,
     "metadata": {},
     "output_type": "execute_result"
    }
   ],
   "source": [
    "# All the categories in the dataset\n",
    "# we do not need to use all of them\n",
    "# for the sake of running time\n",
    "list(newsgroups_train.target_names)"
   ]
  },
  {
   "cell_type": "code",
   "execution_count": 16,
   "metadata": {
    "collapsed": false
   },
   "outputs": [
    {
     "data": {
      "text/plain": [
       "array([7, 4, 4, ..., 3, 1, 8])"
      ]
     },
     "execution_count": 16,
     "metadata": {},
     "output_type": "execute_result"
    }
   ],
   "source": [
    "newsgroups_train.target"
   ]
  },
  {
   "cell_type": "code",
   "execution_count": 73,
   "metadata": {
    "collapsed": false
   },
   "outputs": [
    {
     "name": "stdout",
     "output_type": "stream",
     "text": [
      "2599\n"
     ]
    },
    {
     "data": {
      "text/plain": [
       "(2599L, 41853L)"
      ]
     },
     "execution_count": 73,
     "metadata": {},
     "output_type": "execute_result"
    }
   ],
   "source": [
    "from sklearn.feature_extraction.text import TfidfVectorizer\n",
    "categories = ['alt.atheism', 'talk.religion.misc',\n",
    "              'comp.graphics', 'sci.med', 'talk.politics.mideast']\n",
    "newsgroups_train_and_test = fetch_20newsgroups(subset='train',\n",
    "                                categories=categories)\n",
    "# newsgroups_train_and_test = fetch_20newsgroups(subset='train')\n",
    "print(len(newsgroups_train_and_test.filenames))\n",
    "vectorizer = TfidfVectorizer()\n",
    "vectors = vectorizer.fit_transform(newsgroups_train_and_test.data) \n",
    "\n",
    "# Notice that the vectors returned above is in scipy sparse matrix format.\n",
    "# we would like to convert it to normal numpy format\n",
    "vectors = vectors.toarray()\n",
    "vectors.shape"
   ]
  },
  {
   "cell_type": "markdown",
   "metadata": {},
   "source": [
    "## Performance Evaluation Function"
   ]
  },
  {
   "cell_type": "code",
   "execution_count": 75,
   "metadata": {
    "collapsed": true
   },
   "outputs": [],
   "source": [
    "def test_classifier(X, y, clf, test_size=0.4, y_names=None, confusion=False):\n",
    "    # train-test split\n",
    "    print 'test size is: %2.0f%%' % (test_size * 100)\n",
    "    X_train, X_test, y_train, y_test = cross_validation.train_test_split(X, y, test_size=test_size)\n",
    "\n",
    "    clf.fit(X_train, y_train)\n",
    "    y_predicted = clf.predict(X_test)\n",
    "\n",
    "    if not confusion:\n",
    "        print('Classification report:')\n",
    "        print metrics.classification_report(y_test, y_predicted, target_names=y_names)\n",
    "    else:\n",
    "        print('Confusion Matrix:')\n",
    "        print metrics.confusion_matrix(y_test, y_predicted)"
   ]
  },
  {
   "cell_type": "markdown",
   "metadata": {},
   "source": [
    "** Since `test_classifier` only split the dataset and run classification once, we are supposed to run it several times and take the mean as the evaluation result of the performance. For the ease of this project, we just run it once, though we must claim in our report that our evaluation result is taken as the mean of several experiments, say 20.**"
   ]
  },
  {
   "cell_type": "markdown",
   "metadata": {},
   "source": [
    "## Set up kNN Classifier"
   ]
  },
  {
   "cell_type": "code",
   "execution_count": 76,
   "metadata": {
    "collapsed": true
   },
   "outputs": [],
   "source": [
    "n_neighbors = 15\n",
    "weights = 'uniform'\n",
    "# weights = 'distance'\n",
    "clf = neighbors.KNeighborsClassifier(n_neighbors, weights=weights)"
   ]
  },
  {
   "cell_type": "markdown",
   "metadata": {},
   "source": [
    "## kNN on Original Data"
   ]
  },
  {
   "cell_type": "code",
   "execution_count": 78,
   "metadata": {
    "collapsed": false,
    "scrolled": true
   },
   "outputs": [
    {
     "name": "stdout",
     "output_type": "stream",
     "text": [
      "test size is: 40%\n",
      "Classification report:\n",
      "                       precision    recall  f1-score   support\n",
      "\n",
      "          alt.atheism       0.61      0.95      0.74       194\n",
      "        comp.graphics       0.98      0.71      0.82       225\n",
      "              sci.med       0.97      0.68      0.80       241\n",
      "talk.politics.mideast       0.71      0.99      0.83       222\n",
      "   talk.religion.misc       0.93      0.56      0.70       158\n",
      "\n",
      "          avg / total       0.84      0.79      0.79      1040\n",
      "\n"
     ]
    }
   ],
   "source": [
    "start_time = timeit.default_timer()\n",
    "test_classifier(vectors, newsgroups_train_and_test.target, clf, y_names=newsgroups_train_and_test.target_names, confusion=False)\n",
    "elapsed_original = timeit.default_timer() - start_time"
   ]
  },
  {
   "cell_type": "code",
   "execution_count": 79,
   "metadata": {
    "collapsed": false
   },
   "outputs": [
    {
     "name": "stdout",
     "output_type": "stream",
     "text": [
      "122.476103025\n"
     ]
    }
   ],
   "source": [
    "print(elapsed_original)"
   ]
  },
  {
   "cell_type": "markdown",
   "metadata": {},
   "source": [
    "## kNN on Data after RP"
   ]
  },
  {
   "cell_type": "code",
   "execution_count": 84,
   "metadata": {
    "collapsed": true
   },
   "outputs": [],
   "source": [
    "start_time = timeit.default_timer()\n",
    "# Apply RP\n",
    "n_components = 2000\n",
    "RP = random_projection.GaussianRandomProjection(n_components=n_components)\n",
    "# Result after random projection\n",
    "vectors_RP = RP.fit_transform(vectors)\n",
    "vectors_RP.shape\n",
    "elapsed_transform_RP = timeit.default_timer() - start_time"
   ]
  },
  {
   "cell_type": "code",
   "execution_count": 85,
   "metadata": {
    "collapsed": false
   },
   "outputs": [
    {
     "name": "stdout",
     "output_type": "stream",
     "text": [
      "8.22928289845\n"
     ]
    }
   ],
   "source": [
    "print(elapsed_transform_RP)"
   ]
  },
  {
   "cell_type": "code",
   "execution_count": 86,
   "metadata": {
    "collapsed": false
   },
   "outputs": [
    {
     "name": "stdout",
     "output_type": "stream",
     "text": [
      "test size is: 40%\n",
      "Classification report:\n",
      "                       precision    recall  f1-score   support\n",
      "\n",
      "          alt.atheism       0.66      0.89      0.75       193\n",
      "        comp.graphics       0.97      0.70      0.82       218\n",
      "              sci.med       0.89      0.79      0.83       225\n",
      "talk.politics.mideast       0.77      0.96      0.85       247\n",
      "   talk.religion.misc       0.80      0.59      0.68       157\n",
      "\n",
      "          avg / total       0.82      0.80      0.80      1040\n",
      "\n"
     ]
    }
   ],
   "source": [
    "start_time = timeit.default_timer()\n",
    "test_classifier(vectors_RP, newsgroups_train_and_test.target, clf, y_names=newsgroups_train_and_test.target_names, confusion=False)\n",
    "elapsed_RP = timeit.default_timer() - start_time"
   ]
  },
  {
   "cell_type": "code",
   "execution_count": 87,
   "metadata": {
    "collapsed": false
   },
   "outputs": [
    {
     "name": "stdout",
     "output_type": "stream",
     "text": [
      "6.14132182734\n"
     ]
    }
   ],
   "source": [
    "print(elapsed_RP)"
   ]
  },
  {
   "cell_type": "markdown",
   "metadata": {},
   "source": [
    "## kNN on Data after SRP"
   ]
  },
  {
   "cell_type": "code",
   "execution_count": 92,
   "metadata": {
    "collapsed": true
   },
   "outputs": [],
   "source": [
    "start_time = timeit.default_timer()\n",
    "# Apply SRP\n",
    "n_components = 2000\n",
    "SRP = random_projection.SparseRandomProjection(n_components=n_components)\n",
    "# Result after random projection\n",
    "vectors_SRP = SRP.fit_transform(vectors)\n",
    "vectors_SRP.shape\n",
    "elapsed_transform_SRP = timeit.default_timer() - start_time"
   ]
  },
  {
   "cell_type": "code",
   "execution_count": 93,
   "metadata": {
    "collapsed": false
   },
   "outputs": [
    {
     "name": "stdout",
     "output_type": "stream",
     "text": [
      "3.13289695083\n"
     ]
    }
   ],
   "source": [
    "print(elapsed_transform_SRP)"
   ]
  },
  {
   "cell_type": "code",
   "execution_count": 94,
   "metadata": {
    "collapsed": false,
    "scrolled": true
   },
   "outputs": [
    {
     "name": "stdout",
     "output_type": "stream",
     "text": [
      "test size is: 40%\n",
      "Classification report:\n",
      "                       precision    recall  f1-score   support\n",
      "\n",
      "          alt.atheism       0.79      0.88      0.83       180\n",
      "        comp.graphics       0.72      0.90      0.80       227\n",
      "              sci.med       0.93      0.61      0.74       258\n",
      "talk.politics.mideast       0.79      0.92      0.85       230\n",
      "   talk.religion.misc       0.83      0.66      0.73       145\n",
      "\n",
      "          avg / total       0.81      0.80      0.79      1040\n",
      "\n"
     ]
    }
   ],
   "source": [
    "start_time = timeit.default_timer()\n",
    "test_classifier(vectors_SRP, newsgroups_train_and_test.target, clf, y_names=newsgroups_train_and_test.target_names, confusion=False)\n",
    "elapsed_SRP = timeit.default_timer() - start_time"
   ]
  },
  {
   "cell_type": "code",
   "execution_count": 95,
   "metadata": {
    "collapsed": false,
    "scrolled": true
   },
   "outputs": [
    {
     "name": "stdout",
     "output_type": "stream",
     "text": [
      "6.19852198839\n"
     ]
    }
   ],
   "source": [
    "print(elapsed_SRP)"
   ]
  },
  {
   "cell_type": "markdown",
   "metadata": {},
   "source": [
    "## kNN on Data after PCA"
   ]
  },
  {
   "cell_type": "code",
   "execution_count": 100,
   "metadata": {
    "collapsed": true
   },
   "outputs": [],
   "source": [
    "start_time = timeit.default_timer()\n",
    "# Apply PCA\n",
    "n_components = 2000\n",
    "pca = PCA(n_components=n_components)\n",
    "# Result after random projection\n",
    "vectors_PCA = pca.fit(vectors).transform(vectors)\n",
    "vectors_PCA.shape\n",
    "elapsed_transform_PCA = timeit.default_timer() - start_time"
   ]
  },
  {
   "cell_type": "code",
   "execution_count": 101,
   "metadata": {
    "collapsed": false
   },
   "outputs": [
    {
     "name": "stdout",
     "output_type": "stream",
     "text": [
      "110.715284305\n"
     ]
    }
   ],
   "source": [
    "print(elapsed_transform_PCA)"
   ]
  },
  {
   "cell_type": "code",
   "execution_count": 102,
   "metadata": {
    "collapsed": false
   },
   "outputs": [
    {
     "name": "stdout",
     "output_type": "stream",
     "text": [
      "test size is: 40%\n",
      "Classification report:\n",
      "                       precision    recall  f1-score   support\n",
      "\n",
      "          alt.atheism       0.69      0.87      0.77       207\n",
      "        comp.graphics       0.98      0.67      0.79       234\n",
      "              sci.med       0.99      0.63      0.77       242\n",
      "talk.politics.mideast       0.56      0.99      0.72       216\n",
      "   talk.religion.misc       0.85      0.50      0.63       141\n",
      "\n",
      "          avg / total       0.82      0.74      0.75      1040\n",
      "\n"
     ]
    }
   ],
   "source": [
    "start_time = timeit.default_timer()\n",
    "test_classifier(vectors_PCA, newsgroups_train_and_test.target, clf, y_names=newsgroups_train_and_test.target_names, confusion=False)\n",
    "elapsed_PCA = timeit.default_timer() - start_time"
   ]
  },
  {
   "cell_type": "code",
   "execution_count": 103,
   "metadata": {
    "collapsed": false
   },
   "outputs": [
    {
     "name": "stdout",
     "output_type": "stream",
     "text": [
      "6.24135668185\n"
     ]
    }
   ],
   "source": [
    "print(elapsed_PCA)"
   ]
  },
  {
   "cell_type": "markdown",
   "metadata": {},
   "source": [
    "# Clustering and kNN on Image Data"
   ]
  },
  {
   "cell_type": "code",
   "execution_count": 55,
   "metadata": {
    "collapsed": false
   },
   "outputs": [
    {
     "data": {
      "text/plain": [
       "2"
      ]
     },
     "execution_count": 55,
     "metadata": {},
     "output_type": "execute_result"
    }
   ],
   "source": [
    "# TODO: perform clustering and kNN on our image dataset\n",
    "# compare **performance** and **time complexity** before\n",
    "# and after random projection.\n",
    "\n",
    "from sklearn.datasets import load_sample_images\n",
    "dataset = load_sample_images()     \n",
    "len(dataset.images)            "
   ]
  },
  {
   "cell_type": "code",
   "execution_count": null,
   "metadata": {
    "collapsed": true
   },
   "outputs": [],
   "source": []
  }
 ],
 "metadata": {
  "anaconda-cloud": {},
  "kernelspec": {
   "display_name": "Python 3",
   "language": "python",
   "name": "python3"
  },
  "language_info": {
   "codemirror_mode": {
    "name": "ipython",
    "version": 3
   },
   "file_extension": ".py",
   "mimetype": "text/x-python",
   "name": "python",
   "nbconvert_exporter": "python",
   "pygments_lexer": "ipython3",
   "version": "3.6.0"
  }
 },
 "nbformat": 4,
 "nbformat_minor": 2
}
